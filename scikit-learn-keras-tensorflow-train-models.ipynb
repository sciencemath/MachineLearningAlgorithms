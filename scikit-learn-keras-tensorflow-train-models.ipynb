{
 "cells": [
  {
   "cell_type": "markdown",
   "id": "db905817-6e11-4d33-ad2d-fd1eca4176ad",
   "metadata": {},
   "source": [
    "### minimize MSE closed-form solution called Normal equation"
   ]
  },
  {
   "cell_type": "markdown",
   "id": "a5dcd71d-7504-4a1e-9ef4-3d41e34f70c5",
   "metadata": {},
   "source": [
    "$$\n",
    "\\theta = \\left( X^T X \\right)^{-1} X^T y\n",
    "$$"
   ]
  },
  {
   "cell_type": "markdown",
   "id": "939fc680-2dc2-4f60-9e60-e22766f5e254",
   "metadata": {},
   "source": [
    "y = 4 + 3x1 + Gaussian noise"
   ]
  },
  {
   "cell_type": "code",
   "execution_count": 2,
   "id": "7d05b95d-f23c-4258-bfe8-f3acb9eefe25",
   "metadata": {},
   "outputs": [],
   "source": [
    "import numpy as np\n",
    "\n",
    "np.random.seed(42)\n",
    "m = 100\n",
    "X = 2 * np.random.rand(m, 1)\n",
    "y = 4 + 3 * X + np.random.randn(m, 1)"
   ]
  },
  {
   "cell_type": "code",
   "execution_count": 3,
   "id": "afdd0354-052a-482f-8d46-9211366ea87e",
   "metadata": {},
   "outputs": [],
   "source": [
    "from sklearn.preprocessing import add_dummy_feature\n",
    "\n",
    "X_b = add_dummy_feature(X)\n",
    "theta_best = np.linalg.inv(X_b.T @ X_b) @ X_b.T @ y"
   ]
  },
  {
   "cell_type": "code",
   "execution_count": 10,
   "id": "2f03235a-9233-44fa-9d36-259c4b3863f1",
   "metadata": {},
   "outputs": [
    {
     "data": {
      "text/plain": [
       "array([[4.21509616],\n",
       "       [2.77011339]])"
      ]
     },
     "execution_count": 10,
     "metadata": {},
     "output_type": "execute_result"
    }
   ],
   "source": [
    "theta_best # smaller the dataset the harder"
   ]
  },
  {
   "cell_type": "code",
   "execution_count": 22,
   "id": "80253bd2-1a56-4353-b014-8132e483c89c",
   "metadata": {},
   "outputs": [
    {
     "data": {
      "text/plain": [
       "array([[4.21509616],\n",
       "       [9.75532293]])"
      ]
     },
     "execution_count": 22,
     "metadata": {},
     "output_type": "execute_result"
    }
   ],
   "source": [
    "X_new = np.array([[0], [2]])\n",
    "X_new_b = add_dummy_feature(X_new)\n",
    "y_predict = X_new_b @ theta_best\n",
    "y_predict"
   ]
  },
  {
   "cell_type": "code",
   "execution_count": 23,
   "id": "fc6710ce-5824-48b0-8b0a-c73a1872bc48",
   "metadata": {},
   "outputs": [
    {
     "data": {
      "image/png": "[encoded data removed]",
      "text/plain": [
       "<Figure size 640x480 with 1 Axes>"
      ]
     },
     "metadata": {},
     "output_type": "display_data"
    }
   ],
   "source": [
    "import matplotlib.pyplot as plt\n",
    "\n",
    "plt.plot(X_new, y_predict, \"r-\",label=\"Predictions\")\n",
    "plt.plot(X, y, \"b.\")\n",
    "plt.show()"
   ]
  },
  {
   "cell_type": "code",
   "execution_count": 24,
   "id": "32ea029b-0823-4208-8030-0cd60ec1093b",
   "metadata": {},
   "outputs": [
    {
     "data": {
      "text/plain": [
       "(array([4.21509616]), array([[2.77011339]]))"
      ]
     },
     "execution_count": 24,
     "metadata": {},
     "output_type": "execute_result"
    }
   ],
   "source": [
    "from sklearn.linear_model import LinearRegression\n",
    "\n",
    "lin_reg = LinearRegression() # based on np.linalg.lstsq\n",
    "lin_reg.fit(X, y)\n",
    "lin_reg.intercept_, lin_reg.coef_"
   ]
  },
  {
   "cell_type": "code",
   "execution_count": 25,
   "id": "b1717a68-c71c-4a74-932a-c19b9a1b1331",
   "metadata": {},
   "outputs": [
    {
     "data": {
      "text/plain": [
       "array([[4.21509616],\n",
       "       [9.75532293]])"
      ]
     },
     "execution_count": 25,
     "metadata": {},
     "output_type": "execute_result"
    }
   ],
   "source": [
    "lin_reg.predict(X_new)"
   ]
  },
  {
   "cell_type": "code",
   "execution_count": 26,
   "id": "09de0043-c772-483b-b0e4-eaa9acaf2dba",
   "metadata": {},
   "outputs": [
    {
     "data": {
      "text/plain": [
       "array([[4.21509616],\n",
       "       [2.77011339]])"
      ]
     },
     "execution_count": 26,
     "metadata": {},
     "output_type": "execute_result"
    }
   ],
   "source": [
    "theta_best_svd, residuals, rank, s = np.linalg.lstsq(X_b, y, rcond=1e-6)\n",
    "theta_best_svd"
   ]
  },
  {
   "cell_type": "markdown",
   "id": "b350ebae-03b3-4e2e-a41a-a56fdbe0572a",
   "metadata": {},
   "source": [
    "Moore–Penrose inverse\n",
    "$$\n",
    "\\hat{\\theta} = X^+ y\n",
    "$$\n",
    "pseudoinverse of X\n",
    "$$\n",
    "X^+ \n",
    "$$\n"
   ]
  },
  {
   "cell_type": "code",
   "execution_count": 28,
   "id": "d1faddb6-5447-44aa-9419-9a897279a45d",
   "metadata": {},
   "outputs": [
    {
     "data": {
      "text/plain": [
       "array([[4.21509616],\n",
       "       [2.77011339]])"
      ]
     },
     "execution_count": 28,
     "metadata": {},
     "output_type": "execute_result"
    }
   ],
   "source": [
    "np.linalg.pinv(X_b) @ y"
   ]
  },
  {
   "cell_type": "markdown",
   "id": "76dbc47c-c993-4d1a-b189-e9d9dbd63a92",
   "metadata": {},
   "source": [
    "pseudoinverse is calculated using singular value decomposition (SVD) that can decompose the training set matrix X into the matrix multiplication of three matrices"
   ]
  },
  {
   "cell_type": "markdown",
   "id": "bdbc35cf-8a3c-41dd-8aa3-ed121d8f16b9",
   "metadata": {},
   "source": [
    "numpy.linalg.svd()\n",
    "$$\n",
    "U \\Sigma V^\\top\n",
    "$$\n",
    "\n",
    "$$\n",
    "X^+ = V \\Sigma^+ U^\\top\n",
    "$$"
   ]
  },
  {
   "cell_type": "markdown",
   "id": "53e5d2c7-8fab-4944-a635-4867abb8e9b8",
   "metadata": {},
   "source": [
    "Σ+ is the pseudoinverse of the diagonal matrix Σ, which involves taking the reciprocal of all nonzero singular values and transposing the matrix."
   ]
  },
  {
   "cell_type": "markdown",
   "id": "c1a28eae-cbd9-4565-8022-b0b02beacd40",
   "metadata": {},
   "source": [
    "This approach is more efficient than computing the Normal equation. Normal equation may not\n",
    "work if the matrix X⊺X is not invertible (i.e., singular), if m < n or if some\n",
    "features are redundant, but the pseudoinverse is always defined."
   ]
  },
  {
   "cell_type": "markdown",
   "id": "42203093-c1eb-4793-8296-71e19a7cf569",
   "metadata": {},
   "source": [
    "inverting a matrix is typically about O(n^2.4) to O(n^3), `LinearRegression` class is O(n^2)"
   ]
  },
  {
   "cell_type": "code",
   "execution_count": null,
   "id": "008b25d7-ff09-45c4-bc75-e299bc2d14d8",
   "metadata": {},
   "outputs": [],
   "source": []
  }
 ],
 "metadata": {
  "kernelspec": {
   "display_name": "Python 3 (ipykernel)",
   "language": "python",
   "name": "python3"
  },
  "language_info": {
   "codemirror_mode": {
    "name": "ipython",
    "version": 3
   },
   "file_extension": ".py",
   "mimetype": "text/x-python",
   "name": "python",
   "nbconvert_exporter": "python",
   "pygments_lexer": "ipython3",
   "version": "3.9.6"
  }
 },
 "nbformat": 4,
 "nbformat_minor": 5
}
