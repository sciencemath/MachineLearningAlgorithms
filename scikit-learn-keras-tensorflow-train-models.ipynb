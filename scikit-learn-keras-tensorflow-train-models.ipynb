{
 "cells": [
  {
   "cell_type": "markdown",
   "id": "db905817-6e11-4d33-ad2d-fd1eca4176ad",
   "metadata": {},
   "source": [
    "### minimize MSE closed-form solution called Normal equation"
   ]
  },
  {
   "cell_type": "markdown",
   "id": "a5dcd71d-7504-4a1e-9ef4-3d41e34f70c5",
   "metadata": {},
   "source": [
    "$$\n",
    "\\theta = \\left( X^T X \\right)^{-1} X^T y\n",
    "$$"
   ]
  },
  {
   "cell_type": "markdown",
   "id": "939fc680-2dc2-4f60-9e60-e22766f5e254",
   "metadata": {},
   "source": [
    "y = 4 + 3x1 + Gaussian noise"
   ]
  },
  {
   "cell_type": "code",
   "execution_count": 119,
   "id": "7d05b95d-f23c-4258-bfe8-f3acb9eefe25",
   "metadata": {},
   "outputs": [],
   "source": [
    "import numpy as np\n",
    "\n",
    "np.random.seed(42)\n",
    "m = 100\n",
    "X = 2 * np.random.rand(m, 1)\n",
    "y = 4 + 3 * X + np.random.randn(m, 1)"
   ]
  },
  {
   "cell_type": "code",
   "execution_count": 120,
   "id": "afdd0354-052a-482f-8d46-9211366ea87e",
   "metadata": {},
   "outputs": [],
   "source": [
    "from sklearn.preprocessing import add_dummy_feature\n",
    "\n",
    "X_b = add_dummy_feature(X)\n",
    "theta_best = np.linalg.inv(X_b.T @ X_b) @ X_b.T @ y"
   ]
  },
  {
   "cell_type": "code",
   "execution_count": 121,
   "id": "2f03235a-9233-44fa-9d36-259c4b3863f1",
   "metadata": {},
   "outputs": [
    {
     "data": {
      "text/plain": [
       "array([[4.21509616],\n",
       "       [2.77011339]])"
      ]
     },
     "execution_count": 121,
     "metadata": {},
     "output_type": "execute_result"
    }
   ],
   "source": [
    "theta_best # smaller the dataset the harder"
   ]
  },
  {
   "cell_type": "code",
   "execution_count": 122,
   "id": "80253bd2-1a56-4353-b014-8132e483c89c",
   "metadata": {},
   "outputs": [
    {
     "data": {
      "text/plain": [
       "array([[4.21509616],\n",
       "       [9.75532293]])"
      ]
     },
     "execution_count": 122,
     "metadata": {},
     "output_type": "execute_result"
    }
   ],
   "source": [
    "X_new = np.array([[0], [2]])\n",
    "X_new_b = add_dummy_feature(X_new)\n",
    "y_predict = X_new_b @ theta_best\n",
    "y_predict"
   ]
  },
  {
   "cell_type": "code",
   "execution_count": 123,
   "id": "fc6710ce-5824-48b0-8b0a-c73a1872bc48",
   "metadata": {},
   "outputs": [
    {
     "data": {
      "image/png": "[encoded data removed]",
      "text/plain": [
       "<Figure size 640x480 with 1 Axes>"
      ]
     },
     "metadata": {},
     "output_type": "display_data"
    }
   ],
   "source": [
    "import matplotlib.pyplot as plt\n",
    "\n",
    "plt.plot(X_new, y_predict, \"r-\",label=\"Predictions\")\n",
    "plt.plot(X, y, \"b.\")\n",
    "plt.show()"
   ]
  },
  {
   "cell_type": "code",
   "execution_count": 124,
   "id": "32ea029b-0823-4208-8030-0cd60ec1093b",
   "metadata": {},
   "outputs": [
    {
     "data": {
      "text/plain": [
       "(array([4.21509616]), array([[2.77011339]]))"
      ]
     },
     "execution_count": 124,
     "metadata": {},
     "output_type": "execute_result"
    }
   ],
   "source": [
    "from sklearn.linear_model import LinearRegression\n",
    "\n",
    "lin_reg = LinearRegression() # based on np.linalg.lstsq\n",
    "lin_reg.fit(X, y)\n",
    "lin_reg.intercept_, lin_reg.coef_"
   ]
  },
  {
   "cell_type": "code",
   "execution_count": 125,
   "id": "b1717a68-c71c-4a74-932a-c19b9a1b1331",
   "metadata": {},
   "outputs": [
    {
     "data": {
      "text/plain": [
       "array([[4.21509616],\n",
       "       [9.75532293]])"
      ]
     },
     "execution_count": 125,
     "metadata": {},
     "output_type": "execute_result"
    }
   ],
   "source": [
    "lin_reg.predict(X_new)"
   ]
  },
  {
   "cell_type": "code",
   "execution_count": 126,
   "id": "09de0043-c772-483b-b0e4-eaa9acaf2dba",
   "metadata": {},
   "outputs": [
    {
     "data": {
      "text/plain": [
       "array([[4.21509616],\n",
       "       [2.77011339]])"
      ]
     },
     "execution_count": 126,
     "metadata": {},
     "output_type": "execute_result"
    }
   ],
   "source": [
    "theta_best_svd, residuals, rank, s = np.linalg.lstsq(X_b, y, rcond=1e-6)\n",
    "theta_best_svd"
   ]
  },
  {
   "cell_type": "markdown",
   "id": "b350ebae-03b3-4e2e-a41a-a56fdbe0572a",
   "metadata": {},
   "source": [
    "Moore–Penrose inverse\n",
    "$$\n",
    "\\hat{\\theta} = X^+ y\n",
    "$$\n",
    "pseudoinverse of X\n",
    "$$\n",
    "X^+ \n",
    "$$\n"
   ]
  },
  {
   "cell_type": "code",
   "execution_count": 127,
   "id": "d1faddb6-5447-44aa-9419-9a897279a45d",
   "metadata": {},
   "outputs": [
    {
     "data": {
      "text/plain": [
       "array([[4.21509616],\n",
       "       [2.77011339]])"
      ]
     },
     "execution_count": 127,
     "metadata": {},
     "output_type": "execute_result"
    }
   ],
   "source": [
    "np.linalg.pinv(X_b) @ y"
   ]
  },
  {
   "cell_type": "markdown",
   "id": "76dbc47c-c993-4d1a-b189-e9d9dbd63a92",
   "metadata": {},
   "source": [
    "pseudoinverse is calculated using singular value decomposition (SVD) that can decompose the training set matrix X into the matrix multiplication of three matrices"
   ]
  },
  {
   "cell_type": "markdown",
   "id": "bdbc35cf-8a3c-41dd-8aa3-ed121d8f16b9",
   "metadata": {},
   "source": [
    "numpy.linalg.svd()\n",
    "$$\n",
    "U \\Sigma V^\\top\n",
    "$$\n",
    "\n",
    "$$\n",
    "X^+ = V \\Sigma^+ U^\\top\n",
    "$$"
   ]
  },
  {
   "cell_type": "markdown",
   "id": "53e5d2c7-8fab-4944-a635-4867abb8e9b8",
   "metadata": {},
   "source": [
    "Σ+ is the pseudoinverse of the diagonal matrix Σ, which involves taking the reciprocal of all nonzero singular values and transposing the matrix."
   ]
  },
  {
   "cell_type": "markdown",
   "id": "c1a28eae-cbd9-4565-8022-b0b02beacd40",
   "metadata": {},
   "source": [
    "This approach is more efficient than computing the Normal equation. Normal equation may not\n",
    "work if the matrix X⊺X is not invertible (i.e., singular), if m < n or if some\n",
    "features are redundant, but the pseudoinverse is always defined."
   ]
  },
  {
   "cell_type": "markdown",
   "id": "42203093-c1eb-4793-8296-71e19a7cf569",
   "metadata": {},
   "source": [
    "inverting a matrix is typically about O(n^2.4) to O(n^3), `LinearRegression` class is O(n^2)"
   ]
  },
  {
   "cell_type": "markdown",
   "id": "f808ab01-88bc-4abc-b375-e80984fd0180",
   "metadata": {},
   "source": [
    "when using gradient decent we have to ensure all features have a similar scale `StandardScaler`"
   ]
  },
  {
   "cell_type": "markdown",
   "id": "d048ad7f-8cce-4a75-838e-65cb09b98bb4",
   "metadata": {},
   "source": [
    "computing gradient descent:"
   ]
  },
  {
   "cell_type": "markdown",
   "id": "c797a3cc-db62-49e4-8874-f0f145a82b64",
   "metadata": {},
   "source": [
    "$$\n",
    "\\frac{\\partial}{\\partial \\theta_j} MSE(\\theta) = \\frac{2}{m} \\sum_{i=1}^m \\left( \\theta^\\top x_i - y_i \\right) x_{i,j}\n",
    "$$"
   ]
  },
  {
   "cell_type": "markdown",
   "id": "a2d13e96-b2e5-4f14-b3ee-996fc78408c9",
   "metadata": {},
   "source": [
    "to compute all gradients for each model parameter, we need gradient vector of the cost function"
   ]
  },
  {
   "cell_type": "markdown",
   "id": "d87794ba-ed1e-4f26-abbe-7480e96d7b74",
   "metadata": {},
   "source": [
    "$$\n",
    "\\nabla_\\theta MSE(\\theta) =\n",
    "\\begin{bmatrix}\n",
    "\\frac{\\partial J(\\theta)}{\\partial \\theta_1} \\\\\n",
    "\\frac{\\partial J(\\theta)}{\\partial \\theta_2} \\\\\n",
    "\\vdots \\\\\n",
    "\\frac{\\partial J(\\theta)}{\\partial \\theta_n}\n",
    "\\end{bmatrix}\n",
    "$$"
   ]
  },
  {
   "cell_type": "markdown",
   "id": "08209f95-4fcf-461f-b25b-43e05be7ee03",
   "metadata": {},
   "source": [
    "$$\n",
    " = \\frac{2}{m} X^\\top (X\\theta - y)\n",
    "$$"
   ]
  },
  {
   "cell_type": "markdown",
   "id": "9118c4ea-a3b7-4078-9c34-30a2cbc9872b",
   "metadata": {},
   "source": [
    "training a linear regression model when there\n",
    "are hundreds of thousands of features is much faster using gradient\n",
    "descent than using the Normal equation or SVD decomposition."
   ]
  },
  {
   "cell_type": "markdown",
   "id": "c6ed94dd-71ce-44fb-acd2-0987b015d8c4",
   "metadata": {},
   "source": [
    "$$\n",
    "\\theta_{\\text{next}} = \\theta - \\eta \\cdot \\frac{2}{m} X^\\top (X\\theta - y)\n",
    "$$"
   ]
  },
  {
   "cell_type": "markdown",
   "id": "003974a8-f4db-44ee-a022-c4db26caa479",
   "metadata": {},
   "source": [
    "### Batch Gradient Descent"
   ]
  },
  {
   "cell_type": "code",
   "execution_count": 128,
   "id": "44ce0282-4ad1-4f89-a1a1-e8284fc7f504",
   "metadata": {},
   "outputs": [],
   "source": [
    "eta = 0.1\n",
    "n_epochs = 1000\n",
    "m = len(X_b)\n",
    "\n",
    "np.random.seed(42)\n",
    "theta = np.random.randn(2, 1)\n",
    "\n",
    "for epoch in range(n_epochs):\n",
    "    gradients = 2 / m * X_b.T @ (X_b @ theta - y)\n",
    "    theta = theta - eta * gradients"
   ]
  },
  {
   "cell_type": "code",
   "execution_count": 129,
   "id": "85d8e034-3f37-4a87-82d1-79826eab1948",
   "metadata": {},
   "outputs": [
    {
     "data": {
      "text/plain": [
       "array([[4.21509616],\n",
       "       [2.77011339]])"
      ]
     },
     "execution_count": 129,
     "metadata": {},
     "output_type": "execute_result"
    }
   ],
   "source": [
    "theta"
   ]
  },
  {
   "cell_type": "markdown",
   "id": "0abdd419-ba44-44ae-9f43-8c9a9c1554eb",
   "metadata": {},
   "source": [
    "### Stochastic Gradient Descent\n",
    "\n",
    "This is better as than batch because instead of using the whole training set it picks a random instance at every step and computes gradients only on that single instance"
   ]
  },
  {
   "cell_type": "markdown",
   "id": "3e56b9f8-bec0-4cd8-b610-8518117f2076",
   "metadata": {},
   "source": [
    "the cost function is more random so it may jump around and not settle at the min but its a good escape from local optima as there may be a global min.\n",
    "\n",
    "so for this we make the learning rate high then go low called simulated annealing\n",
    "\n",
    "we need a learning schedule so it has proper slowing/speeding up"
   ]
  },
  {
   "cell_type": "code",
   "execution_count": 130,
   "id": "03d50801-c078-429a-8d63-36a37e1107ed",
   "metadata": {},
   "outputs": [],
   "source": [
    "n_epochs = 50\n",
    "t0, t1 = 5, 50\n",
    "\n",
    "def learning_schedule(t):\n",
    "    return t0 / (t + t1)\n",
    "\n",
    "np.random.seed(42)\n",
    "theta = np.random.randn(2, 1)\n",
    "\n",
    "for epoch in range(n_epochs):\n",
    "    for iteration in range(m):\n",
    "        random_index = np.random.randint(m)\n",
    "        xi = X_b[random_index : random_index + 1]\n",
    "        y1 = y[random_index : random_index + 1]\n",
    "        gradients = 2 * xi.T @ (xi @ theta - y1) # SGD we leave out division\n",
    "        eta = learning_schedule(epoch * m + iteration)\n",
    "        theta = theta - eta * gradients"
   ]
  },
  {
   "cell_type": "code",
   "execution_count": 131,
   "id": "491a8634-f0dd-4ffe-9815-e2d4f1c6c8d0",
   "metadata": {},
   "outputs": [
    {
     "data": {
      "text/plain": [
       "array([[4.21076011],\n",
       "       [2.74856079]])"
      ]
     },
     "execution_count": 131,
     "metadata": {},
     "output_type": "execute_result"
    }
   ],
   "source": [
    "theta"
   ]
  },
  {
   "cell_type": "markdown",
   "id": "bad61ce2-ca98-4482-8ec2-7a9e0e55ddac",
   "metadata": {},
   "source": [
    "### Stochastic Gradient Descent w/ Scikit-Learn\n",
    "\n",
    "`SGDRegressor`"
   ]
  },
  {
   "cell_type": "code",
   "execution_count": 132,
   "id": "0acd64e4-6233-4623-b132-620ae7911981",
   "metadata": {},
   "outputs": [
    {
     "data": {
      "text/html": [
       "<style>#sk-container-id-2 {\n",
       "  /* Definition of color scheme common for light and dark mode */\n",
       "  --sklearn-color-text: black;\n",
       "  --sklearn-color-line: gray;\n",
       "  /* Definition of color scheme for unfitted estimators */\n",
       "  --sklearn-color-unfitted-level-0: #fff5e6;\n",
       "  --sklearn-color-unfitted-level-1: #f6e4d2;\n",
       "  --sklearn-color-unfitted-level-2: #ffe0b3;\n",
       "  --sklearn-color-unfitted-level-3: chocolate;\n",
       "  /* Definition of color scheme for fitted estimators */\n",
       "  --sklearn-color-fitted-level-0: #f0f8ff;\n",
       "  --sklearn-color-fitted-level-1: #d4ebff;\n",
       "  --sklearn-color-fitted-level-2: #b3dbfd;\n",
       "  --sklearn-color-fitted-level-3: cornflowerblue;\n",
       "\n",
       "  /* Specific color for light theme */\n",
       "  --sklearn-color-text-on-default-background: var(--sg-text-color, var(--theme-code-foreground, var(--jp-content-font-color1, black)));\n",
       "  --sklearn-color-background: var(--sg-background-color, var(--theme-background, var(--jp-layout-color0, white)));\n",
       "  --sklearn-color-border-box: var(--sg-text-color, var(--theme-code-foreground, var(--jp-content-font-color1, black)));\n",
       "  --sklearn-color-icon: #696969;\n",
       "\n",
       "  @media (prefers-color-scheme: dark) {\n",
       "    /* Redefinition of color scheme for dark theme */\n",
       "    --sklearn-color-text-on-default-background: var(--sg-text-color, var(--theme-code-foreground, var(--jp-content-font-color1, white)));\n",
       "    --sklearn-color-background: var(--sg-background-color, var(--theme-background, var(--jp-layout-color0, #111)));\n",
       "    --sklearn-color-border-box: var(--sg-text-color, var(--theme-code-foreground, var(--jp-content-font-color1, white)));\n",
       "    --sklearn-color-icon: #878787;\n",
       "  }\n",
       "}\n",
       "\n",
       "#sk-container-id-2 {\n",
       "  color: var(--sklearn-color-text);\n",
       "}\n",
       "\n",
       "#sk-container-id-2 pre {\n",
       "  padding: 0;\n",
       "}\n",
       "\n",
       "#sk-container-id-2 input.sk-hidden--visually {\n",
       "  border: 0;\n",
       "  clip: rect(1px 1px 1px 1px);\n",
       "  clip: rect(1px, 1px, 1px, 1px);\n",
       "  height: 1px;\n",
       "  margin: -1px;\n",
       "  overflow: hidden;\n",
       "  padding: 0;\n",
       "  position: absolute;\n",
       "  width: 1px;\n",
       "}\n",
       "\n",
       "#sk-container-id-2 div.sk-dashed-wrapped {\n",
       "  border: 1px dashed var(--sklearn-color-line);\n",
       "  margin: 0 0.4em 0.5em 0.4em;\n",
       "  box-sizing: border-box;\n",
       "  padding-bottom: 0.4em;\n",
       "  background-color: var(--sklearn-color-background);\n",
       "}\n",
       "\n",
       "#sk-container-id-2 div.sk-container {\n",
       "  /* jupyter's `normalize.less` sets `[hidden] { display: none; }`\n",
       "     but bootstrap.min.css set `[hidden] { display: none !important; }`\n",
       "     so we also need the `!important` here to be able to override the\n",
       "     default hidden behavior on the sphinx rendered scikit-learn.org.\n",
       "     See: https://github.com/scikit-learn/scikit-learn/issues/21755 */\n",
       "  display: inline-block !important;\n",
       "  position: relative;\n",
       "}\n",
       "\n",
       "#sk-container-id-2 div.sk-text-repr-fallback {\n",
       "  display: none;\n",
       "}\n",
       "\n",
       "div.sk-parallel-item,\n",
       "div.sk-serial,\n",
       "div.sk-item {\n",
       "  /* draw centered vertical line to link estimators */\n",
       "  background-image: linear-gradient(var(--sklearn-color-text-on-default-background), var(--sklearn-color-text-on-default-background));\n",
       "  background-size: 2px 100%;\n",
       "  background-repeat: no-repeat;\n",
       "  background-position: center center;\n",
       "}\n",
       "\n",
       "/* Parallel-specific style estimator block */\n",
       "\n",
       "#sk-container-id-2 div.sk-parallel-item::after {\n",
       "  content: \"\";\n",
       "  width: 100%;\n",
       "  border-bottom: 2px solid var(--sklearn-color-text-on-default-background);\n",
       "  flex-grow: 1;\n",
       "}\n",
       "\n",
       "#sk-container-id-2 div.sk-parallel {\n",
       "  display: flex;\n",
       "  align-items: stretch;\n",
       "  justify-content: center;\n",
       "  background-color: var(--sklearn-color-background);\n",
       "  position: relative;\n",
       "}\n",
       "\n",
       "#sk-container-id-2 div.sk-parallel-item {\n",
       "  display: flex;\n",
       "  flex-direction: column;\n",
       "}\n",
       "\n",
       "#sk-container-id-2 div.sk-parallel-item:first-child::after {\n",
       "  align-self: flex-end;\n",
       "  width: 50%;\n",
       "}\n",
       "\n",
       "#sk-container-id-2 div.sk-parallel-item:last-child::after {\n",
       "  align-self: flex-start;\n",
       "  width: 50%;\n",
       "}\n",
       "\n",
       "#sk-container-id-2 div.sk-parallel-item:only-child::after {\n",
       "  width: 0;\n",
       "}\n",
       "\n",
       "/* Serial-specific style estimator block */\n",
       "\n",
       "#sk-container-id-2 div.sk-serial {\n",
       "  display: flex;\n",
       "  flex-direction: column;\n",
       "  align-items: center;\n",
       "  background-color: var(--sklearn-color-background);\n",
       "  padding-right: 1em;\n",
       "  padding-left: 1em;\n",
       "}\n",
       "\n",
       "\n",
       "/* Toggleable style: style used for estimator/Pipeline/ColumnTransformer box that is\n",
       "clickable and can be expanded/collapsed.\n",
       "- Pipeline and ColumnTransformer use this feature and define the default style\n",
       "- Estimators will overwrite some part of the style using the `sk-estimator` class\n",
       "*/\n",
       "\n",
       "/* Pipeline and ColumnTransformer style (default) */\n",
       "\n",
       "#sk-container-id-2 div.sk-toggleable {\n",
       "  /* Default theme specific background. It is overwritten whether we have a\n",
       "  specific estimator or a Pipeline/ColumnTransformer */\n",
       "  background-color: var(--sklearn-color-background);\n",
       "}\n",
       "\n",
       "/* Toggleable label */\n",
       "#sk-container-id-2 label.sk-toggleable__label {\n",
       "  cursor: pointer;\n",
       "  display: block;\n",
       "  width: 100%;\n",
       "  margin-bottom: 0;\n",
       "  padding: 0.5em;\n",
       "  box-sizing: border-box;\n",
       "  text-align: center;\n",
       "}\n",
       "\n",
       "#sk-container-id-2 label.sk-toggleable__label-arrow:before {\n",
       "  /* Arrow on the left of the label */\n",
       "  content: \"▸\";\n",
       "  float: left;\n",
       "  margin-right: 0.25em;\n",
       "  color: var(--sklearn-color-icon);\n",
       "}\n",
       "\n",
       "#sk-container-id-2 label.sk-toggleable__label-arrow:hover:before {\n",
       "  color: var(--sklearn-color-text);\n",
       "}\n",
       "\n",
       "/* Toggleable content - dropdown */\n",
       "\n",
       "#sk-container-id-2 div.sk-toggleable__content {\n",
       "  max-height: 0;\n",
       "  max-width: 0;\n",
       "  overflow: hidden;\n",
       "  text-align: left;\n",
       "  /* unfitted */\n",
       "  background-color: var(--sklearn-color-unfitted-level-0);\n",
       "}\n",
       "\n",
       "#sk-container-id-2 div.sk-toggleable__content.fitted {\n",
       "  /* fitted */\n",
       "  background-color: var(--sklearn-color-fitted-level-0);\n",
       "}\n",
       "\n",
       "#sk-container-id-2 div.sk-toggleable__content pre {\n",
       "  margin: 0.2em;\n",
       "  border-radius: 0.25em;\n",
       "  color: var(--sklearn-color-text);\n",
       "  /* unfitted */\n",
       "  background-color: var(--sklearn-color-unfitted-level-0);\n",
       "}\n",
       "\n",
       "#sk-container-id-2 div.sk-toggleable__content.fitted pre {\n",
       "  /* unfitted */\n",
       "  background-color: var(--sklearn-color-fitted-level-0);\n",
       "}\n",
       "\n",
       "#sk-container-id-2 input.sk-toggleable__control:checked~div.sk-toggleable__content {\n",
       "  /* Expand drop-down */\n",
       "  max-height: 200px;\n",
       "  max-width: 100%;\n",
       "  overflow: auto;\n",
       "}\n",
       "\n",
       "#sk-container-id-2 input.sk-toggleable__control:checked~label.sk-toggleable__label-arrow:before {\n",
       "  content: \"▾\";\n",
       "}\n",
       "\n",
       "/* Pipeline/ColumnTransformer-specific style */\n",
       "\n",
       "#sk-container-id-2 div.sk-label input.sk-toggleable__control:checked~label.sk-toggleable__label {\n",
       "  color: var(--sklearn-color-text);\n",
       "  background-color: var(--sklearn-color-unfitted-level-2);\n",
       "}\n",
       "\n",
       "#sk-container-id-2 div.sk-label.fitted input.sk-toggleable__control:checked~label.sk-toggleable__label {\n",
       "  background-color: var(--sklearn-color-fitted-level-2);\n",
       "}\n",
       "\n",
       "/* Estimator-specific style */\n",
       "\n",
       "/* Colorize estimator box */\n",
       "#sk-container-id-2 div.sk-estimator input.sk-toggleable__control:checked~label.sk-toggleable__label {\n",
       "  /* unfitted */\n",
       "  background-color: var(--sklearn-color-unfitted-level-2);\n",
       "}\n",
       "\n",
       "#sk-container-id-2 div.sk-estimator.fitted input.sk-toggleable__control:checked~label.sk-toggleable__label {\n",
       "  /* fitted */\n",
       "  background-color: var(--sklearn-color-fitted-level-2);\n",
       "}\n",
       "\n",
       "#sk-container-id-2 div.sk-label label.sk-toggleable__label,\n",
       "#sk-container-id-2 div.sk-label label {\n",
       "  /* The background is the default theme color */\n",
       "  color: var(--sklearn-color-text-on-default-background);\n",
       "}\n",
       "\n",
       "/* On hover, darken the color of the background */\n",
       "#sk-container-id-2 div.sk-label:hover label.sk-toggleable__label {\n",
       "  color: var(--sklearn-color-text);\n",
       "  background-color: var(--sklearn-color-unfitted-level-2);\n",
       "}\n",
       "\n",
       "/* Label box, darken color on hover, fitted */\n",
       "#sk-container-id-2 div.sk-label.fitted:hover label.sk-toggleable__label.fitted {\n",
       "  color: var(--sklearn-color-text);\n",
       "  background-color: var(--sklearn-color-fitted-level-2);\n",
       "}\n",
       "\n",
       "/* Estimator label */\n",
       "\n",
       "#sk-container-id-2 div.sk-label label {\n",
       "  font-family: monospace;\n",
       "  font-weight: bold;\n",
       "  display: inline-block;\n",
       "  line-height: 1.2em;\n",
       "}\n",
       "\n",
       "#sk-container-id-2 div.sk-label-container {\n",
       "  text-align: center;\n",
       "}\n",
       "\n",
       "/* Estimator-specific */\n",
       "#sk-container-id-2 div.sk-estimator {\n",
       "  font-family: monospace;\n",
       "  border: 1px dotted var(--sklearn-color-border-box);\n",
       "  border-radius: 0.25em;\n",
       "  box-sizing: border-box;\n",
       "  margin-bottom: 0.5em;\n",
       "  /* unfitted */\n",
       "  background-color: var(--sklearn-color-unfitted-level-0);\n",
       "}\n",
       "\n",
       "#sk-container-id-2 div.sk-estimator.fitted {\n",
       "  /* fitted */\n",
       "  background-color: var(--sklearn-color-fitted-level-0);\n",
       "}\n",
       "\n",
       "/* on hover */\n",
       "#sk-container-id-2 div.sk-estimator:hover {\n",
       "  /* unfitted */\n",
       "  background-color: var(--sklearn-color-unfitted-level-2);\n",
       "}\n",
       "\n",
       "#sk-container-id-2 div.sk-estimator.fitted:hover {\n",
       "  /* fitted */\n",
       "  background-color: var(--sklearn-color-fitted-level-2);\n",
       "}\n",
       "\n",
       "/* Specification for estimator info (e.g. \"i\" and \"?\") */\n",
       "\n",
       "/* Common style for \"i\" and \"?\" */\n",
       "\n",
       ".sk-estimator-doc-link,\n",
       "a:link.sk-estimator-doc-link,\n",
       "a:visited.sk-estimator-doc-link {\n",
       "  float: right;\n",
       "  font-size: smaller;\n",
       "  line-height: 1em;\n",
       "  font-family: monospace;\n",
       "  background-color: var(--sklearn-color-background);\n",
       "  border-radius: 1em;\n",
       "  height: 1em;\n",
       "  width: 1em;\n",
       "  text-decoration: none !important;\n",
       "  margin-left: 1ex;\n",
       "  /* unfitted */\n",
       "  border: var(--sklearn-color-unfitted-level-1) 1pt solid;\n",
       "  color: var(--sklearn-color-unfitted-level-1);\n",
       "}\n",
       "\n",
       ".sk-estimator-doc-link.fitted,\n",
       "a:link.sk-estimator-doc-link.fitted,\n",
       "a:visited.sk-estimator-doc-link.fitted {\n",
       "  /* fitted */\n",
       "  border: var(--sklearn-color-fitted-level-1) 1pt solid;\n",
       "  color: var(--sklearn-color-fitted-level-1);\n",
       "}\n",
       "\n",
       "/* On hover */\n",
       "div.sk-estimator:hover .sk-estimator-doc-link:hover,\n",
       ".sk-estimator-doc-link:hover,\n",
       "div.sk-label-container:hover .sk-estimator-doc-link:hover,\n",
       ".sk-estimator-doc-link:hover {\n",
       "  /* unfitted */\n",
       "  background-color: var(--sklearn-color-unfitted-level-3);\n",
       "  color: var(--sklearn-color-background);\n",
       "  text-decoration: none;\n",
       "}\n",
       "\n",
       "div.sk-estimator.fitted:hover .sk-estimator-doc-link.fitted:hover,\n",
       ".sk-estimator-doc-link.fitted:hover,\n",
       "div.sk-label-container:hover .sk-estimator-doc-link.fitted:hover,\n",
       ".sk-estimator-doc-link.fitted:hover {\n",
       "  /* fitted */\n",
       "  background-color: var(--sklearn-color-fitted-level-3);\n",
       "  color: var(--sklearn-color-background);\n",
       "  text-decoration: none;\n",
       "}\n",
       "\n",
       "/* Span, style for the box shown on hovering the info icon */\n",
       ".sk-estimator-doc-link span {\n",
       "  display: none;\n",
       "  z-index: 9999;\n",
       "  position: relative;\n",
       "  font-weight: normal;\n",
       "  right: .2ex;\n",
       "  padding: .5ex;\n",
       "  margin: .5ex;\n",
       "  width: min-content;\n",
       "  min-width: 20ex;\n",
       "  max-width: 50ex;\n",
       "  color: var(--sklearn-color-text);\n",
       "  box-shadow: 2pt 2pt 4pt #999;\n",
       "  /* unfitted */\n",
       "  background: var(--sklearn-color-unfitted-level-0);\n",
       "  border: .5pt solid var(--sklearn-color-unfitted-level-3);\n",
       "}\n",
       "\n",
       ".sk-estimator-doc-link.fitted span {\n",
       "  /* fitted */\n",
       "  background: var(--sklearn-color-fitted-level-0);\n",
       "  border: var(--sklearn-color-fitted-level-3);\n",
       "}\n",
       "\n",
       ".sk-estimator-doc-link:hover span {\n",
       "  display: block;\n",
       "}\n",
       "\n",
       "/* \"?\"-specific style due to the `<a>` HTML tag */\n",
       "\n",
       "#sk-container-id-2 a.estimator_doc_link {\n",
       "  float: right;\n",
       "  font-size: 1rem;\n",
       "  line-height: 1em;\n",
       "  font-family: monospace;\n",
       "  background-color: var(--sklearn-color-background);\n",
       "  border-radius: 1rem;\n",
       "  height: 1rem;\n",
       "  width: 1rem;\n",
       "  text-decoration: none;\n",
       "  /* unfitted */\n",
       "  color: var(--sklearn-color-unfitted-level-1);\n",
       "  border: var(--sklearn-color-unfitted-level-1) 1pt solid;\n",
       "}\n",
       "\n",
       "#sk-container-id-2 a.estimator_doc_link.fitted {\n",
       "  /* fitted */\n",
       "  border: var(--sklearn-color-fitted-level-1) 1pt solid;\n",
       "  color: var(--sklearn-color-fitted-level-1);\n",
       "}\n",
       "\n",
       "/* On hover */\n",
       "#sk-container-id-2 a.estimator_doc_link:hover {\n",
       "  /* unfitted */\n",
       "  background-color: var(--sklearn-color-unfitted-level-3);\n",
       "  color: var(--sklearn-color-background);\n",
       "  text-decoration: none;\n",
       "}\n",
       "\n",
       "#sk-container-id-2 a.estimator_doc_link.fitted:hover {\n",
       "  /* fitted */\n",
       "  background-color: var(--sklearn-color-fitted-level-3);\n",
       "}\n",
       "</style><div id=\"sk-container-id-2\" class=\"sk-top-container\"><div class=\"sk-text-repr-fallback\"><pre>SGDRegressor(n_iter_no_change=100, penalty=None, random_state=42, tol=1e-05)</pre><b>In a Jupyter environment, please rerun this cell to show the HTML representation or trust the notebook. <br />On GitHub, the HTML representation is unable to render, please try loading this page with nbviewer.org.</b></div><div class=\"sk-container\" hidden><div class=\"sk-item\"><div class=\"sk-estimator fitted sk-toggleable\"><input class=\"sk-toggleable__control sk-hidden--visually\" id=\"sk-estimator-id-2\" type=\"checkbox\" checked><label for=\"sk-estimator-id-2\" class=\"sk-toggleable__label fitted sk-toggleable__label-arrow fitted\">&nbsp;&nbsp;SGDRegressor<a class=\"sk-estimator-doc-link fitted\" rel=\"noreferrer\" target=\"_blank\" href=\"https://scikit-learn.org/1.4/modules/generated/sklearn.linear_model.SGDRegressor.html\">?<span>Documentation for SGDRegressor</span></a><span class=\"sk-estimator-doc-link fitted\">i<span>Fitted</span></span></label><div class=\"sk-toggleable__content fitted\"><pre>SGDRegressor(n_iter_no_change=100, penalty=None, random_state=42, tol=1e-05)</pre></div> </div></div></div></div>"
      ],
      "text/plain": [
       "SGDRegressor(n_iter_no_change=100, penalty=None, random_state=42, tol=1e-05)"
      ]
     },
     "execution_count": 132,
     "metadata": {},
     "output_type": "execute_result"
    }
   ],
   "source": [
    "from sklearn.linear_model import SGDRegressor\n",
    "\n",
    "sgd_reg = SGDRegressor(\n",
    "    max_iter=1000,\n",
    "    tol=1e-5,\n",
    "    penalty=None,\n",
    "    eta0=0.01,\n",
    "    n_iter_no_change=100,\n",
    "    random_state=42\n",
    ")\n",
    "sgd_reg.fit(X, y.ravel()) # ravel because fit() expects 1D targets"
   ]
  },
  {
   "cell_type": "code",
   "execution_count": 133,
   "id": "46931e62-ae76-462e-b13c-32431783919d",
   "metadata": {},
   "outputs": [
    {
     "data": {
      "text/plain": [
       "(array([4.21278812]), array([2.77270267]))"
      ]
     },
     "execution_count": 133,
     "metadata": {},
     "output_type": "execute_result"
    }
   ],
   "source": [
    "sgd_reg.intercept_, sgd_reg.coef_"
   ]
  },
  {
   "cell_type": "markdown",
   "id": "0e031d17-ab58-4693-b4aa-f998561a36d6",
   "metadata": {},
   "source": [
    "### Polynomial Regression\n",
    "\n",
    "linear model to fit nonlinear data"
   ]
  },
  {
   "cell_type": "markdown",
   "id": "c06e3d3f-1ef7-4664-b549-4720519501bf",
   "metadata": {},
   "source": [
    "generating nonlinear data\n",
    "y = ax² + bx + c + plus some noise"
   ]
  },
  {
   "cell_type": "code",
   "execution_count": 134,
   "id": "b285c9ba-6fab-41e0-a51f-c2f2cd7a9cd0",
   "metadata": {},
   "outputs": [
    {
     "data": {
      "image/png": "[encoded data removed]",
      "text/plain": [
       "<Figure size 800x600 with 1 Axes>"
      ]
     },
     "metadata": {},
     "output_type": "display_data"
    }
   ],
   "source": [
    "np.random.seed(42)\n",
    "m = 100\n",
    "X = 6 * np.random.rand(m, 1) - 3\n",
    "y = 0.5 * X ** 2 + X + 2 + np.random.randn(m, 1)\n",
    "\n",
    "plt.figure(figsize=(8, 6))\n",
    "plt.scatter(X, y, color='blue', alpha=0.7, label=\"Data Points\")\n",
    "plt.title(\"Scatter Plot of the Generated Data\", fontsize=16)\n",
    "plt.xlabel(\"X\", fontsize=14)\n",
    "plt.ylabel(\"y\", fontsize=14)\n",
    "plt.grid(True, linestyle=\"--\", alpha=0.6)\n",
    "plt.legend(fontsize=12)\n",
    "plt.show()"
   ]
  },
  {
   "cell_type": "markdown",
   "id": "0844afb9-57bd-4977-96eb-7e563c8201e6",
   "metadata": {},
   "source": [
    "straight line will never fit the data properly `PolynomialFeatures` can help tranform training data by adding a second degree polynomial of each feature as a new feature"
   ]
  },
  {
   "cell_type": "code",
   "execution_count": 135,
   "id": "1f5db5f1-6a9d-4faa-8d53-0e918681103a",
   "metadata": {},
   "outputs": [
    {
     "data": {
      "text/plain": [
       "array([-0.75275929])"
      ]
     },
     "execution_count": 135,
     "metadata": {},
     "output_type": "execute_result"
    }
   ],
   "source": [
    "from sklearn.preprocessing import PolynomialFeatures\n",
    "poly_features = PolynomialFeatures(degree=2, include_bias=False)\n",
    "X_poly = poly_features.fit_transform(X)\n",
    "X[0]"
   ]
  },
  {
   "cell_type": "code",
   "execution_count": 136,
   "id": "c4d712ce-aab5-46ee-ad78-0ea7d409c7e7",
   "metadata": {},
   "outputs": [
    {
     "data": {
      "text/plain": [
       "array([-0.75275929,  0.56664654])"
      ]
     },
     "execution_count": 136,
     "metadata": {},
     "output_type": "execute_result"
    }
   ],
   "source": [
    "X_poly[0] # original X and X^2"
   ]
  },
  {
   "cell_type": "code",
   "execution_count": 137,
   "id": "04cc31fb-fe40-4e7e-8556-11f2c860743c",
   "metadata": {},
   "outputs": [
    {
     "data": {
      "text/plain": [
       "(array([1.78134581]), array([[0.93366893, 0.56456263]]))"
      ]
     },
     "execution_count": 137,
     "metadata": {},
     "output_type": "execute_result"
    }
   ],
   "source": [
    "lin_reg = LinearRegression()\n",
    "lin_reg.fit(X_poly, y)\n",
    "lin_reg.intercept_, lin_reg.coef_"
   ]
  },
  {
   "cell_type": "code",
   "execution_count": 138,
   "id": "c3b32766-236b-4deb-a1ac-e040938b049b",
   "metadata": {},
   "outputs": [
    {
     "data": {
      "image/png": "[encoded data removed]",
      "text/plain": [
       "<Figure size 800x600 with 1 Axes>"
      ]
     },
     "metadata": {},
     "output_type": "display_data"
    }
   ],
   "source": [
    "# Generate predictions for the regression line\n",
    "X_new = np.linspace(X.min(), X.max(), 500).reshape(-1, 1)  # Create 500 evenly spaced points for a smooth curve\n",
    "X_new_poly = poly_features.transform(X_new)\n",
    "y_new = lin_reg.predict(X_new_poly)\n",
    "\n",
    "plt.figure(figsize=(8, 6))\n",
    "plt.scatter(X, y, color='blue', alpha=0.7, label=\"Data Points\")\n",
    "plt.plot(X_new, y_new, color='red', linewidth=2, label=\"Regression Line\")\n",
    "plt.title(\"Polynomial Regression (Degree=2)\", fontsize=16)\n",
    "plt.xlabel(\"X\", fontsize=14)\n",
    "plt.ylabel(\"y\", fontsize=14)\n",
    "plt.grid(True, linestyle=\"--\", alpha=0.6)\n",
    "plt.legend(fontsize=12)\n",
    "plt.show()"
   ]
  },
  {
   "cell_type": "markdown",
   "id": "dfcf4276-b6d2-457b-a9a0-143baf0469e4",
   "metadata": {},
   "source": [
    "If you don't know the degree of the data we would evaluate the training and validation errors at regular intervals during training, and plot the results. (learning curves)"
   ]
  },
  {
   "cell_type": "code",
   "execution_count": 139,
   "id": "d2e758b0-41be-4a5f-8c46-a06593938b19",
   "metadata": {},
   "outputs": [
    {
     "data": {
      "image/png": "[encoded data removed]",
      "text/plain": [
       "<Figure size 640x480 with 1 Axes>"
      ]
     },
     "metadata": {},
     "output_type": "display_data"
    }
   ],
   "source": [
    "from sklearn.model_selection import learning_curve\n",
    "\n",
    "train_sizes, train_scores, valid_scores = learning_curve(\n",
    "    LinearRegression(),\n",
    "    X,\n",
    "    y,\n",
    "    train_sizes=np.linspace(0.01, 1.0, 40),\n",
    "    cv=5,\n",
    "    scoring=\"neg_root_mean_squared_error\"\n",
    ")\n",
    "train_errors = -train_scores.mean(axis=1)\n",
    "valid_errors = -valid_scores.mean(axis=1)\n",
    "\n",
    "plt.plot(train_sizes, train_errors, \"r-+\", linewidth=2, label=\"train\")\n",
    "plt.plot(train_sizes, valid_errors, \"b-\", linewidth=3, label=\"valid\")\n",
    "plt.show()"
   ]
  },
  {
   "cell_type": "markdown",
   "id": "f7999aa4-eed8-451a-ac5d-848d15b92621",
   "metadata": {},
   "source": [
    "These learning curves are underfitting the data (both reached a plateau, they are close and fairly high)"
   ]
  },
  {
   "cell_type": "markdown",
   "id": "42360970-1866-473e-ae2f-1ec2033a9d55",
   "metadata": {},
   "source": [
    "if model is underfitting adding more training examples won't help, we need to use a better model or come up with better features"
   ]
  },
  {
   "cell_type": "code",
   "execution_count": 167,
   "id": "c4600394-5de8-436f-9cfb-7af47eb5fbde",
   "metadata": {},
   "outputs": [
    {
     "data": {
      "image/png": "[encoded data removed]",
      "text/plain": [
       "<Figure size 640x480 with 1 Axes>"
      ]
     },
     "metadata": {},
     "output_type": "display_data"
    }
   ],
   "source": [
    "from sklearn.pipeline import make_pipeline\n",
    "\n",
    "polynomial_regression = make_pipeline(\n",
    "    PolynomialFeatures(degree=10, include_bias=False),\n",
    "    LinearRegression()\n",
    ")\n",
    "# np.linspace(0.01, 1.0, 40) is not displaying graph properly theres a spike in the validation\n",
    "train_sizes, train_scores, valid_scores = learning_curve(\n",
    "    polynomial_regression, X, y, train_sizes=np.linspace(0.01, 1.0, 5), cv=5,\n",
    "    scoring=\"neg_root_mean_squared_error\"\n",
    ")\n",
    "\n",
    "train_errors = -train_scores.mean(axis=1)\n",
    "valid_errors = -valid_scores.mean(axis=1)\n",
    "\n",
    "plt.plot(train_sizes, train_errors, \"r-+\", linewidth=2, label=\"train\")\n",
    "plt.plot(train_sizes, valid_errors, \"b-\", linewidth=3, label=\"valid\")\n",
    "plt.show()"
   ]
  },
  {
   "cell_type": "markdown",
   "id": "58438d83-1f85-470c-ac1b-68e614a9ca90",
   "metadata": {},
   "source": [
    "Model does better on training data than validation, this is overfitting, if we use a much larger training set the curves would get closer"
   ]
  },
  {
   "cell_type": "markdown",
   "id": "b7c6d1c4-f7f1-48d5-81a6-4156d2ed089f",
   "metadata": {},
   "source": [
    "### Ridge regression (also called Tikhonov regularization) is a regularized version of linear regression\n",
    "\n",
    "regularization term should only be added to\n",
    "the cost function during training.\n",
    "\n",
    "$$\n",
    "J(\\theta) = \\text{MSE}(\\theta) + \\frac{\\alpha}{m} \\sum_{i=1}^{n} \\theta_i^2\n",
    "$$"
   ]
  },
  {
   "cell_type": "markdown",
   "id": "98d07638-5036-4d32-a4cc-5f79783f6193",
   "metadata": {},
   "source": [
    "if $\\alpha$ = 0 its just linear regression, if $\\alpha$ large all weights end up close to zero and the result is a flat line going through the data's mean"
   ]
  },
  {
   "cell_type": "markdown",
   "id": "c11a3c90-1091-4a08-9309-a5e1b7122930",
   "metadata": {},
   "source": [
    "Once the model is trained, you want to use the\n",
    "unregularized MSE (or the RMSE) to evaluate the model’s performance."
   ]
  },
  {
   "cell_type": "markdown",
   "id": "06c8e7f9-7e78-4dee-b610-5ab43cd6b4b2",
   "metadata": {},
   "source": [
    "its important to use `StandardScaler` before regularization"
   ]
  },
  {
   "cell_type": "markdown",
   "id": "63999eda-bc6a-4493-a6d0-3abfeab58647",
   "metadata": {},
   "source": [
    "closed-form ridge regression (A) is the identity matrix"
   ]
  },
  {
   "cell_type": "markdown",
   "id": "4302ab79-f1ea-4d98-af7a-c80a57f455cf",
   "metadata": {},
   "source": [
    "$$\n",
    "\\theta = \\left( \\mathbf{X}^\\top \\mathbf{X} + \\alpha \\mathbf{A} \\right)^{-1} \\mathbf{X}^\\top \\mathbf{y}\n",
    "$$"
   ]
  },
  {
   "cell_type": "code",
   "execution_count": 143,
   "id": "3c1013f1-f2ea-47d8-ad18-7fd2bc34061d",
   "metadata": {},
   "outputs": [
    {
     "data": {
      "text/plain": [
       "array([[4.82899748]])"
      ]
     },
     "execution_count": 143,
     "metadata": {},
     "output_type": "execute_result"
    }
   ],
   "source": [
    "from sklearn.linear_model import Ridge\n",
    "ridge_reg = Ridge(alpha=0.1, solver=\"cholesky\")\n",
    "ridge_reg.fit(X, y)\n",
    "ridge_reg.predict([[1.5]])"
   ]
  },
  {
   "cell_type": "code",
   "execution_count": 144,
   "id": "f2f49171-f6cd-42d8-8504-2f8d235cdc28",
   "metadata": {},
   "outputs": [
    {
     "data": {
      "text/plain": [
       "array([4.82830117])"
      ]
     },
     "execution_count": 144,
     "metadata": {},
     "output_type": "execute_result"
    }
   ],
   "source": [
    "sgd_reg = SGDRegressor(penalty=\"l2\", alpha=0.1 / m, tol=None,\n",
    "                       max_iter=1000, eta0=0.01, random_state=42)\n",
    "sgd_reg.fit(X, y.ravel()) # ravel because fit expects 1D targets\n",
    "sgd_reg.predict([[1.5]])"
   ]
  },
  {
   "cell_type": "markdown",
   "id": "56eff9eb-0caf-4634-b378-8de6c5e8a644",
   "metadata": {},
   "source": [
    "Specifying\n",
    "\"l2\" indicates that you want to add a regularization term to the MSE cost\n",
    "function equal to alpha times the square of the l2 norm of the weight vector."
   ]
  },
  {
   "cell_type": "markdown",
   "id": "e6f0f4f9-6773-43a4-ba78-56a1325ca3ab",
   "metadata": {},
   "source": [
    "### Lasso Regression least absolute shrinkage and selection operator regression"
   ]
  },
  {
   "cell_type": "markdown",
   "id": "5c43eb16-216a-4b3f-937b-65e390fffbce",
   "metadata": {},
   "source": [
    "uses the l1 norm of the weight vector instead of the square of the l2 norm \n",
    "that the l1 norm is multiplied by 2α, whereas the l2 norm was multiplied by α / m\n",
    "in ridge regression. "
   ]
  },
  {
   "cell_type": "markdown",
   "id": "2cb1ae11-c0b1-404b-b212-466744145695",
   "metadata": {},
   "source": [
    "$$\n",
    "J(\\theta) = \\text{MSE}(\\theta) + 2\\alpha \\sum_{i=1}^{n} |\\theta_i|\n",
    "$$"
   ]
  },
  {
   "cell_type": "markdown",
   "id": "5bff9a26-4c14-412d-814e-8f7229f676d9",
   "metadata": {},
   "source": [
    "eliminates the weights of the least important features (i.e., set them to zero)"
   ]
  },
  {
   "cell_type": "code",
   "execution_count": null,
   "id": "3e732779-b8e5-44c7-b0aa-573ab14c6873",
   "metadata": {},
   "outputs": [],
   "source": []
  }
 ],
 "metadata": {
  "kernelspec": {
   "display_name": "Python 3 (ipykernel)",
   "language": "python",
   "name": "python3"
  },
  "language_info": {
   "codemirror_mode": {
    "name": "ipython",
    "version": 3
   },
   "file_extension": ".py",
   "mimetype": "text/x-python",
   "name": "python",
   "nbconvert_exporter": "python",
   "pygments_lexer": "ipython3",
   "version": "3.9.6"
  }
 },
 "nbformat": 4,
 "nbformat_minor": 5
}
