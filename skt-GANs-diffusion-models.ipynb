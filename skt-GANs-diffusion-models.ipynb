{
 "cells": [
  {
   "cell_type": "markdown",
   "id": "deab7dfd-19ed-4a0a-b3b4-3824a2452f21",
   "metadata": {},
   "source": [
    "### Linear autoencoder\n",
    "\n",
    "perform PCA on a 3D dataset, projecting it to 2D (Principal component analysis)"
   ]
  },
  {
   "cell_type": "code",
   "execution_count": 15,
   "id": "16be850d-923c-472d-808a-1a00fae421c7",
   "metadata": {},
   "outputs": [],
   "source": [
    "import tensorflow as tf\n",
    "\n",
    "encoder = tf.keras.Sequential([tf.keras.layers.Dense(2)])\n",
    "decoder = tf.keras.Sequential([tf.keras.layers.Dense(3)])\n",
    "autoencoder = tf.keras.Sequential([encoder, decoder])\n",
    "\n",
    "optimizer = tf.keras.optimizers.SGD(learning_rate=0.5)\n",
    "autoencoder.compile(loss=\"mse\", optimizer=optimizer)"
   ]
  },
  {
   "cell_type": "markdown",
   "id": "c0d85bfe-dace-4931-9868-eacd20aec9d4",
   "metadata": {},
   "source": [
    "A model can be used as a layer in another model"
   ]
  },
  {
   "cell_type": "code",
   "execution_count": 100,
   "id": "cbf3cc57-f6e2-4c2c-a380-97e3b309f61f",
   "metadata": {},
   "outputs": [
    {
     "name": "stdout",
     "output_type": "stream",
     "text": [
      "Epoch 1/20\n"
     ]
    },
    {
     "name": "stderr",
     "output_type": "stream",
     "text": [
      "/Users/mathias/.pyenv/versions/3.12.0/lib/python3.12/site-packages/keras/src/layers/core/dense.py:87: UserWarning: Do not pass an `input_shape`/`input_dim` argument to a layer. When using Sequential models, prefer using an `Input(shape)` object as the first layer in the model instead.\n",
      "  super().__init__(activity_regularizer=activity_regularizer, **kwargs)\n"
     ]
    },
    {
     "name": "stdout",
     "output_type": "stream",
     "text": [
      "\u001b[1m1500/1500\u001b[0m \u001b[32m━━━━━━━━━━━━━━━━━━━━\u001b[0m\u001b[37m\u001b[0m \u001b[1m5s\u001b[0m 3ms/step - loss: 0.0386 - val_loss: 0.0162\n",
      "Epoch 2/20\n",
      "\u001b[1m1500/1500\u001b[0m \u001b[32m━━━━━━━━━━━━━━━━━━━━\u001b[0m\u001b[37m\u001b[0m \u001b[1m5s\u001b[0m 3ms/step - loss: 0.0151 - val_loss: 0.0135\n",
      "Epoch 3/20\n",
      "\u001b[1m1500/1500\u001b[0m \u001b[32m━━━━━━━━━━━━━━━━━━━━\u001b[0m\u001b[37m\u001b[0m \u001b[1m5s\u001b[0m 3ms/step - loss: 0.0129 - val_loss: 0.0120\n",
      "Epoch 4/20\n",
      "\u001b[1m1500/1500\u001b[0m \u001b[32m━━━━━━━━━━━━━━━━━━━━\u001b[0m\u001b[37m\u001b[0m \u001b[1m5s\u001b[0m 3ms/step - loss: 0.0118 - val_loss: 0.0112\n",
      "Epoch 5/20\n",
      "\u001b[1m1500/1500\u001b[0m \u001b[32m━━━━━━━━━━━━━━━━━━━━\u001b[0m\u001b[37m\u001b[0m \u001b[1m5s\u001b[0m 3ms/step - loss: 0.0109 - val_loss: 0.0105\n",
      "Epoch 6/20\n",
      "\u001b[1m1500/1500\u001b[0m \u001b[32m━━━━━━━━━━━━━━━━━━━━\u001b[0m\u001b[37m\u001b[0m \u001b[1m5s\u001b[0m 3ms/step - loss: 0.0104 - val_loss: 0.0101\n",
      "Epoch 7/20\n",
      "\u001b[1m1500/1500\u001b[0m \u001b[32m━━━━━━━━━━━━━━━━━━━━\u001b[0m\u001b[37m\u001b[0m \u001b[1m5s\u001b[0m 3ms/step - loss: 0.0100 - val_loss: 0.0100\n",
      "Epoch 8/20\n",
      "\u001b[1m1500/1500\u001b[0m \u001b[32m━━━━━━━━━━━━━━━━━━━━\u001b[0m\u001b[37m\u001b[0m \u001b[1m5s\u001b[0m 3ms/step - loss: 0.0097 - val_loss: 0.0095\n",
      "Epoch 9/20\n",
      "\u001b[1m1500/1500\u001b[0m \u001b[32m━━━━━━━━━━━━━━━━━━━━\u001b[0m\u001b[37m\u001b[0m \u001b[1m5s\u001b[0m 3ms/step - loss: 0.0094 - val_loss: 0.0094\n",
      "Epoch 10/20\n",
      "\u001b[1m1500/1500\u001b[0m \u001b[32m━━━━━━━━━━━━━━━━━━━━\u001b[0m\u001b[37m\u001b[0m \u001b[1m5s\u001b[0m 3ms/step - loss: 0.0092 - val_loss: 0.0093\n",
      "Epoch 11/20\n",
      "\u001b[1m1500/1500\u001b[0m \u001b[32m━━━━━━━━━━━━━━━━━━━━\u001b[0m\u001b[37m\u001b[0m \u001b[1m5s\u001b[0m 3ms/step - loss: 0.0090 - val_loss: 0.0090\n",
      "Epoch 12/20\n",
      "\u001b[1m1500/1500\u001b[0m \u001b[32m━━━━━━━━━━━━━━━━━━━━\u001b[0m\u001b[37m\u001b[0m \u001b[1m5s\u001b[0m 3ms/step - loss: 0.0089 - val_loss: 0.0089\n",
      "Epoch 13/20\n",
      "\u001b[1m1500/1500\u001b[0m \u001b[32m━━━━━━━━━━━━━━━━━━━━\u001b[0m\u001b[37m\u001b[0m \u001b[1m5s\u001b[0m 3ms/step - loss: 0.0087 - val_loss: 0.0088\n",
      "Epoch 14/20\n",
      "\u001b[1m1500/1500\u001b[0m \u001b[32m━━━━━━━━━━━━━━━━━━━━\u001b[0m\u001b[37m\u001b[0m \u001b[1m5s\u001b[0m 3ms/step - loss: 0.0085 - val_loss: 0.0087\n",
      "Epoch 15/20\n",
      "\u001b[1m1500/1500\u001b[0m \u001b[32m━━━━━━━━━━━━━━━━━━━━\u001b[0m\u001b[37m\u001b[0m \u001b[1m5s\u001b[0m 3ms/step - loss: 0.0084 - val_loss: 0.0087\n",
      "Epoch 16/20\n",
      "\u001b[1m1500/1500\u001b[0m \u001b[32m━━━━━━━━━━━━━━━━━━━━\u001b[0m\u001b[37m\u001b[0m \u001b[1m5s\u001b[0m 3ms/step - loss: 0.0084 - val_loss: 0.0085\n",
      "Epoch 17/20\n",
      "\u001b[1m1500/1500\u001b[0m \u001b[32m━━━━━━━━━━━━━━━━━━━━\u001b[0m\u001b[37m\u001b[0m \u001b[1m5s\u001b[0m 3ms/step - loss: 0.0084 - val_loss: 0.0085\n",
      "Epoch 18/20\n",
      "\u001b[1m1500/1500\u001b[0m \u001b[32m━━━━━━━━━━━━━━━━━━━━\u001b[0m\u001b[37m\u001b[0m \u001b[1m5s\u001b[0m 3ms/step - loss: 0.0082 - val_loss: 0.0084\n",
      "Epoch 19/20\n",
      "\u001b[1m1500/1500\u001b[0m \u001b[32m━━━━━━━━━━━━━━━━━━━━\u001b[0m\u001b[37m\u001b[0m \u001b[1m5s\u001b[0m 3ms/step - loss: 0.0081 - val_loss: 0.0084\n",
      "Epoch 20/20\n",
      "\u001b[1m1500/1500\u001b[0m \u001b[32m━━━━━━━━━━━━━━━━━━━━\u001b[0m\u001b[37m\u001b[0m \u001b[1m5s\u001b[0m 3ms/step - loss: 0.0081 - val_loss: 0.0082\n",
      "\u001b[1m1500/1500\u001b[0m \u001b[32m━━━━━━━━━━━━━━━━━━━━\u001b[0m\u001b[37m\u001b[0m \u001b[1m1s\u001b[0m 384us/step\n"
     ]
    }
   ],
   "source": [
    "from tensorflow.keras.datasets import fashion_mnist\n",
    "from sklearn.model_selection import train_test_split\n",
    "import tensorflow as tf\n",
    "\n",
    "# Load Fashion-MNIST dataset\n",
    "(X, y), (_, _) = fashion_mnist.load_data()\n",
    "\n",
    "# Normalize pixel values\n",
    "X = X.astype(\"float32\") / 255.0\n",
    "X = X.reshape(-1, 28 * 28)  # Flatten images for dense layers\n",
    "\n",
    "# Split into training and validation sets\n",
    "X_train, X_valid, y_train, y_valid = train_test_split(X, y, test_size=0.2, random_state=42)\n",
    "\n",
    "# Define the encoder\n",
    "encoder = tf.keras.Sequential([\n",
    "    tf.keras.layers.Dense(128, activation=\"relu\", input_shape=(28*28,)),\n",
    "    tf.keras.layers.Dense(64, activation=\"relu\"),\n",
    "    tf.keras.layers.Dense(64)  # Latent space (bottleneck)\n",
    "])\n",
    "\n",
    "# Define the decoder\n",
    "decoder = tf.keras.Sequential([\n",
    "    tf.keras.layers.Dense(128, activation=\"relu\"),\n",
    "    tf.keras.layers.Dense(784, activation=\"sigmoid\")  # Output 784 units (flattened)\n",
    "])\n",
    "\n",
    "# Define the autoencoder\n",
    "autoencoder = tf.keras.Sequential([encoder, decoder])\n",
    "\n",
    "# Compile the autoencoder\n",
    "autoencoder.compile(loss=\"mse\", optimizer=tf.keras.optimizers.Adam(learning_rate=0.001))\n",
    "\n",
    "# Train the autoencoder\n",
    "history = autoencoder.fit(X_train, X_train, epochs=20, validation_data=(X_valid, X_valid))\n",
    "\n",
    "# Extract compressed representations (codings)\n",
    "codings = encoder.predict(X_train)"
   ]
  },
  {
   "cell_type": "markdown",
   "id": "eafd4d7f-7af9-44f0-b988-158ff514b3d4",
   "metadata": {},
   "source": [
    "autoencoder performs a form of self-supervised learning"
   ]
  },
  {
   "cell_type": "markdown",
   "id": "817a177d-6456-4d72-932a-3249df91da78",
   "metadata": {},
   "source": [
    "Autoencoders are a type of neural network used for unsupervised learning, primarily for dimensionality reduction, feature learning, and anomaly detection. "
   ]
  },
  {
   "cell_type": "markdown",
   "id": "a90d7707-e594-48a1-ba78-6c39ba6071d6",
   "metadata": {},
   "source": [
    "A stacked autoencoder:"
   ]
  },
  {
   "cell_type": "code",
   "execution_count": 34,
   "id": "25dc0c5b-07a3-4c0b-a6a8-47505945e68f",
   "metadata": {},
   "outputs": [
    {
     "name": "stdout",
     "output_type": "stream",
     "text": [
      "Epoch 1/20\n",
      "\u001b[1m1500/1500\u001b[0m \u001b[32m━━━━━━━━━━━━━━━━━━━━\u001b[0m\u001b[37m\u001b[0m \u001b[1m5s\u001b[0m 3ms/step - loss: 0.0399 - val_loss: 0.0171\n",
      "Epoch 2/20\n",
      "\u001b[1m1500/1500\u001b[0m \u001b[32m━━━━━━━━━━━━━━━━━━━━\u001b[0m\u001b[37m\u001b[0m \u001b[1m4s\u001b[0m 3ms/step - loss: 0.0166 - val_loss: 0.0155\n",
      "Epoch 3/20\n",
      "\u001b[1m1500/1500\u001b[0m \u001b[32m━━━━━━━━━━━━━━━━━━━━\u001b[0m\u001b[37m\u001b[0m \u001b[1m4s\u001b[0m 3ms/step - loss: 0.0147 - val_loss: 0.0141\n",
      "Epoch 4/20\n",
      "\u001b[1m1500/1500\u001b[0m \u001b[32m━━━━━━━━━━━━━━━━━━━━\u001b[0m\u001b[37m\u001b[0m \u001b[1m4s\u001b[0m 3ms/step - loss: 0.0138 - val_loss: 0.0133\n",
      "Epoch 5/20\n",
      "\u001b[1m1500/1500\u001b[0m \u001b[32m━━━━━━━━━━━━━━━━━━━━\u001b[0m\u001b[37m\u001b[0m \u001b[1m4s\u001b[0m 3ms/step - loss: 0.0132 - val_loss: 0.0128\n",
      "Epoch 6/20\n",
      "\u001b[1m1500/1500\u001b[0m \u001b[32m━━━━━━━━━━━━━━━━━━━━\u001b[0m\u001b[37m\u001b[0m \u001b[1m5s\u001b[0m 3ms/step - loss: 0.0126 - val_loss: 0.0125\n",
      "Epoch 7/20\n",
      "\u001b[1m1500/1500\u001b[0m \u001b[32m━━━━━━━━━━━━━━━━━━━━\u001b[0m\u001b[37m\u001b[0m \u001b[1m4s\u001b[0m 3ms/step - loss: 0.0123 - val_loss: 0.0122\n",
      "Epoch 8/20\n",
      "\u001b[1m1500/1500\u001b[0m \u001b[32m━━━━━━━━━━━━━━━━━━━━\u001b[0m\u001b[37m\u001b[0m \u001b[1m4s\u001b[0m 3ms/step - loss: 0.0120 - val_loss: 0.0120\n",
      "Epoch 9/20\n",
      "\u001b[1m1500/1500\u001b[0m \u001b[32m━━━━━━━━━━━━━━━━━━━━\u001b[0m\u001b[37m\u001b[0m \u001b[1m4s\u001b[0m 3ms/step - loss: 0.0118 - val_loss: 0.0119\n",
      "Epoch 10/20\n",
      "\u001b[1m1500/1500\u001b[0m \u001b[32m━━━━━━━━━━━━━━━━━━━━\u001b[0m\u001b[37m\u001b[0m \u001b[1m4s\u001b[0m 3ms/step - loss: 0.0116 - val_loss: 0.0116\n",
      "Epoch 11/20\n",
      "\u001b[1m1500/1500\u001b[0m \u001b[32m━━━━━━━━━━━━━━━━━━━━\u001b[0m\u001b[37m\u001b[0m \u001b[1m4s\u001b[0m 3ms/step - loss: 0.0115 - val_loss: 0.0114\n",
      "Epoch 12/20\n",
      "\u001b[1m1500/1500\u001b[0m \u001b[32m━━━━━━━━━━━━━━━━━━━━\u001b[0m\u001b[37m\u001b[0m \u001b[1m5s\u001b[0m 3ms/step - loss: 0.0113 - val_loss: 0.0114\n",
      "Epoch 13/20\n",
      "\u001b[1m1500/1500\u001b[0m \u001b[32m━━━━━━━━━━━━━━━━━━━━\u001b[0m\u001b[37m\u001b[0m \u001b[1m4s\u001b[0m 3ms/step - loss: 0.0112 - val_loss: 0.0112\n",
      "Epoch 14/20\n",
      "\u001b[1m1500/1500\u001b[0m \u001b[32m━━━━━━━━━━━━━━━━━━━━\u001b[0m\u001b[37m\u001b[0m \u001b[1m4s\u001b[0m 3ms/step - loss: 0.0111 - val_loss: 0.0112\n",
      "Epoch 15/20\n",
      "\u001b[1m1500/1500\u001b[0m \u001b[32m━━━━━━━━━━━━━━━━━━━━\u001b[0m\u001b[37m\u001b[0m \u001b[1m5s\u001b[0m 3ms/step - loss: 0.0110 - val_loss: 0.0111\n",
      "Epoch 16/20\n",
      "\u001b[1m1500/1500\u001b[0m \u001b[32m━━━━━━━━━━━━━━━━━━━━\u001b[0m\u001b[37m\u001b[0m \u001b[1m4s\u001b[0m 3ms/step - loss: 0.0109 - val_loss: 0.0110\n",
      "Epoch 17/20\n",
      "\u001b[1m1500/1500\u001b[0m \u001b[32m━━━━━━━━━━━━━━━━━━━━\u001b[0m\u001b[37m\u001b[0m \u001b[1m5s\u001b[0m 3ms/step - loss: 0.0109 - val_loss: 0.0108\n",
      "Epoch 18/20\n",
      "\u001b[1m1500/1500\u001b[0m \u001b[32m━━━━━━━━━━━━━━━━━━━━\u001b[0m\u001b[37m\u001b[0m \u001b[1m7s\u001b[0m 5ms/step - loss: 0.0107 - val_loss: 0.0109\n",
      "Epoch 19/20\n",
      "\u001b[1m1500/1500\u001b[0m \u001b[32m━━━━━━━━━━━━━━━━━━━━\u001b[0m\u001b[37m\u001b[0m \u001b[1m7s\u001b[0m 5ms/step - loss: 0.0106 - val_loss: 0.0108\n",
      "Epoch 20/20\n",
      "\u001b[1m1500/1500\u001b[0m \u001b[32m━━━━━━━━━━━━━━━━━━━━\u001b[0m\u001b[37m\u001b[0m \u001b[1m5s\u001b[0m 3ms/step - loss: 0.0106 - val_loss: 0.0107\n"
     ]
    }
   ],
   "source": [
    "stacked_encoder = tf.keras.Sequential([\n",
    "    tf.keras.layers.Flatten(),\n",
    "    tf.keras.layers.Dense(100, activation=\"relu\"),\n",
    "    tf.keras.layers.Dense(30, activation=\"relu\"),\n",
    "])\n",
    "\n",
    "stacked_decoder = tf.keras.Sequential([\n",
    "    tf.keras.layers.Dense(100, activation=\"relu\"),\n",
    "    tf.keras.layers.Dense(784, activation=\"sigmoid\"),  # Output 784 units (flattened)\n",
    "])\n",
    "\n",
    "stacked_ae = tf.keras.Sequential([stacked_encoder, stacked_decoder])\n",
    "stacked_ae.compile(loss=\"mse\", optimizer=\"nadam\")\n",
    "\n",
    "history = stacked_ae.fit(X_train, X_train, epochs=20, validation_data=(X_valid, X_valid))"
   ]
  },
  {
   "cell_type": "code",
   "execution_count": 35,
   "id": "e076488c-1c64-4bd8-997e-b2367c2dc9be",
   "metadata": {},
   "outputs": [
    {
     "name": "stdout",
     "output_type": "stream",
     "text": [
      "\u001b[1m1/1\u001b[0m \u001b[32m━━━━━━━━━━━━━━━━━━━━\u001b[0m\u001b[37m\u001b[0m \u001b[1m0s\u001b[0m 49ms/step\n"
     ]
    },
    {
     "data": {
      "image/png": "[encoded data removed]",
      "text/plain": [
       "<Figure size 750x300 with 10 Axes>"
      ]
     },
     "metadata": {},
     "output_type": "display_data"
    }
   ],
   "source": [
    "import numpy as np\n",
    "import matplotlib.pyplot as plt\n",
    "\n",
    "def plot_reconstructions(model, images=X_valid, n_images=5):\n",
    "    reconstructions = np.clip(model.predict(images[:n_images]), 0, 1)\n",
    "    fig = plt.figure(figsize=(n_images * 1.5, 3))\n",
    "    for image_index in range(n_images):\n",
    "        # Original image\n",
    "        plt.subplot(2, n_images, 1 + image_index)\n",
    "        plt.imshow(images[image_index].reshape(28, 28), cmap=\"binary\")\n",
    "        plt.axis(\"off\")\n",
    "        \n",
    "        # Reconstructed image (reshaped from flattened vector to 28x28)\n",
    "        plt.subplot(2, n_images, 1 + n_images + image_index)\n",
    "        plt.imshow(reconstructions[image_index].reshape(28, 28), cmap=\"binary\")\n",
    "        plt.axis(\"off\")\n",
    "\n",
    "plot_reconstructions(stacked_ae)\n",
    "plt.show()"
   ]
  },
  {
   "cell_type": "markdown",
   "id": "a32ff8df-cda2-442e-bf70-ab78f0a1c0fc",
   "metadata": {},
   "source": [
    "^ if we make this less blury it will become too perfect and more difficult to find useful patterns"
   ]
  },
  {
   "cell_type": "markdown",
   "id": "a2bba20a-edcc-4bc7-bb24-2b2569b566f7",
   "metadata": {},
   "source": [
    "lets use an autoencoder to reduce the dimensionality down to a reasonable level, then use another dimensionality reduction algorithm for visualization."
   ]
  },
  {
   "cell_type": "code",
   "execution_count": 36,
   "id": "fe5ad49e-6bcb-4583-a395-fad694c8e28c",
   "metadata": {},
   "outputs": [
    {
     "name": "stdout",
     "output_type": "stream",
     "text": [
      "\u001b[1m375/375\u001b[0m \u001b[32m━━━━━━━━━━━━━━━━━━━━\u001b[0m\u001b[37m\u001b[0m \u001b[1m0s\u001b[0m 530us/step\n"
     ]
    }
   ],
   "source": [
    "from sklearn.manifold import TSNE\n",
    "\n",
    "X_valid_compressed = stacked_encoder.predict(X_valid)\n",
    "tsne = TSNE(init=\"pca\", learning_rate=\"auto\", random_state=42)\n",
    "X_valid_2D = tsne.fit_transform(X_valid_compressed)"
   ]
  },
  {
   "cell_type": "code",
   "execution_count": 37,
   "id": "445e7a5d-6114-4f99-bfbb-d4fae41d9f44",
   "metadata": {},
   "outputs": [
    {
     "data": {
      "image/png": "[encoded data removed]",
      "text/plain": [
       "<Figure size 640x480 with 1 Axes>"
      ]
     },
     "metadata": {},
     "output_type": "display_data"
    }
   ],
   "source": [
    "plt.scatter(X_valid_2D[:, 0], X_valid_2D[:, 1], c=y_valid, s=10, cmap=\"tab10\")\n",
    "plt.show()"
   ]
  },
  {
   "cell_type": "markdown",
   "id": "52928827-717b-4065-890c-b8d2da40727e",
   "metadata": {},
   "source": [
    "When an autoencoder is neatly symmetrical, a common technique is to tie the weights of the decoder layers to the weights of the encoder layers.\n",
    "\n",
    "This halves the number of weights in the model, speeding up training and limiting the risk of overfitting."
   ]
  },
  {
   "cell_type": "code",
   "execution_count": 38,
   "id": "cbdff00c-9751-4e7b-8492-7f99ed61adfc",
   "metadata": {},
   "outputs": [],
   "source": [
    "class DenseTranspose(tf.keras.layers.Layer):\n",
    "    def __init__(self, dense, activation=None, **kwargs):\n",
    "        super().__init__(**kwargs)\n",
    "        self.dense = dense\n",
    "        self.activation = tf.keras.activations.get(activation)\n",
    "\n",
    "    def build(self, batch_input_shape):\n",
    "        self.biases = self.add_weight(name=\"bias\", shape=self.dense.input_shape[-1], initializer=\"zeros\")\n",
    "        super().build(batch_input_shape)\n",
    "\n",
    "    def call(self, inputs):\n",
    "        Z = tf.matmul(inputs, self.dense.weights[0], transpose_b=True)\n",
    "        return self.activation(Z + self.biases)"
   ]
  },
  {
   "cell_type": "markdown",
   "id": "f51bee5b-6fa7-427c-bc44-de6959194dd5",
   "metadata": {},
   "source": [
    "^ reuse the weights of a pre-trained Dense layer and apply its transpose operation."
   ]
  },
  {
   "cell_type": "markdown",
   "id": "0760f706-71c6-4e1e-8fb1-bbff3438dfd1",
   "metadata": {},
   "source": [
    "This model achieves about the same reconstruction error as the prev model, using almost half the number of parameters:"
   ]
  },
  {
   "cell_type": "code",
   "execution_count": 41,
   "id": "88ac4e46-af2b-430a-aad5-7c4e16d64f44",
   "metadata": {},
   "outputs": [],
   "source": [
    "dense_1 = tf.keras.layers.Dense(100, activation=\"relu\")\n",
    "dense_2 = tf.keras.layers.Dense(30, activation=\"relu\")\n",
    "\n",
    "tied_encoder = tf.keras.Sequential([\n",
    "    tf.keras.layers.Flatten(),\n",
    "    dense_1,\n",
    "    dense_2\n",
    "])\n",
    "\n",
    "tied_decoder = tf.keras.Sequential([\n",
    "    DenseTranspose(dense_2, activation=\"relu\"),\n",
    "    DenseTranspose(dense_1),\n",
    "    tf.keras.layers.Reshape([28, 28])\n",
    "])\n",
    "\n",
    "tied_ae = tf.keras.Sequential([tied_encoder, tied_decoder])"
   ]
  },
  {
   "cell_type": "markdown",
   "id": "5a6ed44d-12a5-4ed7-acda-bb34c9b220ab",
   "metadata": {},
   "source": [
    "### greedy layerwise training\n",
    "\n",
    "not so much used anymore but you can train one autoencoder at a time then stack them in a single autoencoder"
   ]
  },
  {
   "cell_type": "markdown",
   "id": "5c6e3ba4-a784-410d-9185-047eb05d8599",
   "metadata": {},
   "source": [
    "### Convolutional Autoencoders\n",
    "\n",
    "for images of course"
   ]
  },
  {
   "cell_type": "code",
   "execution_count": 45,
   "id": "d79fe751-3529-46b4-91b5-01e0c29e6d89",
   "metadata": {},
   "outputs": [],
   "source": [
    "conv_encoder = tf.keras.Sequential([\n",
    "    tf.keras.layers.Reshape([28, 28, 1]),\n",
    "    tf.keras.layers.Conv2D(16, 3, padding=\"same\", activation=\"relu\"),\n",
    "    tf.keras.layers.MaxPool2D(pool_size=2), # 14 x 14 x 16\n",
    "    tf.keras.layers.Conv2D(32, 3, padding=\"same\", activation=\"relu\"),\n",
    "    tf.keras.layers.MaxPool2D(pool_size=2), # 7 x 7 x 32\n",
    "    tf.keras.layers.Conv2D(64, 3, padding=\"same\", activation=\"relu\"),\n",
    "    tf.keras.layers.MaxPool2D(pool_size=2), # 3 x 3 x 64\n",
    "    tf.keras.layers.Conv2D(30, 3, padding=\"same\", activation=\"relu\"),\n",
    "    tf.keras.layers.GlobalAvgPool2D() # 30\n",
    "])\n",
    "\n",
    "conv_decoder = tf.keras.Sequential([\n",
    "    tf.keras.layers.Dense(3 * 3 * 16),\n",
    "    tf.keras.layers.Reshape((3, 3, 16)),\n",
    "    tf.keras.layers.Conv2DTranspose(32, 3, strides=2, activation=\"relu\"),\n",
    "    tf.keras.layers.Conv2DTranspose(16, 3, strides=2, padding=\"same\", activation=\"relu\"),\n",
    "    tf.keras.layers.Conv2DTranspose(1, 3, strides=2, padding=\"same\"),\n",
    "    tf.keras.layers.Reshape([28, 28])\n",
    "])\n",
    "conv_ae = tf.keras.Sequential([conv_encoder, conv_decoder])"
   ]
  },
  {
   "cell_type": "markdown",
   "id": "7d7f4514-3fc4-4f95-bc42-8a49a5e94b2f",
   "metadata": {},
   "source": [
    "### Denoising Autoencoders\n",
    "\n",
    "force the autoencoder to learn useful features is to add noise to its inputs, training it to recover the original, noise-free inputs. "
   ]
  },
  {
   "cell_type": "code",
   "execution_count": 46,
   "id": "d223e891-4478-4be1-87a9-18ee3213375c",
   "metadata": {},
   "outputs": [],
   "source": [
    "dropout_encoder = tf.keras.Sequential([\n",
    "    tf.keras.layers.Flatten(),\n",
    "    tf.keras.layers.Dropout(0.5),\n",
    "    tf.keras.layers.Dense(100, activation=\"relu\"),\n",
    "    tf.keras.layers.Dense(30, activation=\"relu\")\n",
    "])\n",
    "\n",
    "dropout_decoder = tf.keras.Sequential([\n",
    "    tf.keras.layers.Dense(100, activation=\"relu\"),\n",
    "    tf.keras.layers.Dense(28 * 28),\n",
    "    tf.keras.layers.Reshape([28, 28])\n",
    "])\n",
    "dropout_ae = tf.keras.Sequential([dropout_encoder, dropout_decoder])"
   ]
  },
  {
   "cell_type": "markdown",
   "id": "a94fd676-630d-4de2-8f66-0ec49dd658d8",
   "metadata": {},
   "source": [
    "### Sparse Autoencoders\n",
    "\n",
    "autoencoder is pushed to reduce the number of active neurons in the coding layer.\n",
    "\n",
    "Once we have the mean activation per neuron, we want to penalize the neurons that\n",
    "are too active, or not active enough, by adding a sparsity loss to the cost function.\n",
    "\n",
    "A better approach is to use the Kullback–Leibler (KL) divergence"
   ]
  },
  {
   "cell_type": "code",
   "execution_count": 47,
   "id": "88d5393e-6fb1-471b-bd7b-8a6cfa35cbf7",
   "metadata": {},
   "outputs": [],
   "source": [
    "sparse_l1_encoder = tf.keras.Sequential([\n",
    "    tf.keras.layers.Flatten(),\n",
    "    tf.keras.layers.Dense(100, activation=\"relu\"),\n",
    "    tf.keras.layers.Dense(300, activation=\"sigmoid\"),\n",
    "    tf.keras.layers.ActivityRegularization(l1=1e-4)\n",
    "])\n",
    "\n",
    "sparse_l1_decoder = tf.keras.Sequential([\n",
    "    tf.keras.layers.Dense(100, activation=\"relu\"),\n",
    "    tf.keras.layers.Dense(28 * 28),\n",
    "    tf.keras.layers.Reshape([28, 28])\n",
    "])\n",
    "\n",
    "sparse_l1_ae = tf.keras.Sequential([sparse_l1_encoder, sparse_l1_decoder])"
   ]
  },
  {
   "cell_type": "markdown",
   "id": "7c03f710-423b-407f-9fab-525724c13bd1",
   "metadata": {},
   "source": [
    "custom regularizer to apply KL divergence regularization:"
   ]
  },
  {
   "cell_type": "code",
   "execution_count": 48,
   "id": "5a3c8230-89c5-41f2-8779-067a28b6927c",
   "metadata": {},
   "outputs": [],
   "source": [
    "kl_divergence = tf.keras.losses.kullback_leibler_divergence\n",
    "\n",
    "class KLDivergenceRegularizer(tf.keras.regularizers.Regularizer):\n",
    "    def __init__(self, weight, target):\n",
    "        self.weight = weight\n",
    "        self.target = target\n",
    "\n",
    "    def __call__(self, inputs):\n",
    "        mean_activities = tf.reduce_mean(inputs, axis=0)\n",
    "        return self.weight * (\n",
    "            kl_divergence(self.target, mean_activities) +\n",
    "            kl_divergence(1. - self.target, 1. - mean_activities)\n",
    "        )"
   ]
  },
  {
   "cell_type": "markdown",
   "id": "8350c2ca-0575-4f16-8741-4e4d7c11e605",
   "metadata": {},
   "source": [
    "sparse autoencoder using KL divergence"
   ]
  },
  {
   "cell_type": "code",
   "execution_count": 49,
   "id": "1cd0f2b9-218e-4070-8234-ad9ff2a19baf",
   "metadata": {},
   "outputs": [],
   "source": [
    "kld_reg = KLDivergenceRegularizer(weight=5e-3, target=0.1)\n",
    "\n",
    "sparse_kl_encoder = tf.keras.Sequential([\n",
    "    tf.keras.layers.Flatten(),\n",
    "    tf.keras.layers.Dense(100, activation=\"relu\"),\n",
    "    tf.keras.layers.Dense(300, activation=\"sigmoid\", activity_regularizer=kld_reg)\n",
    "])\n",
    "\n",
    "sparse_kl_decoder = tf.keras.Sequential([\n",
    "    tf.keras.layers.Dense(100, activation=\"relu\"),\n",
    "    tf.keras.layers.Dense(28 * 28),\n",
    "    tf.keras.layers.Reshape([28, 28])\n",
    "])\n",
    "\n",
    "sparse_kl_ae = tf.keras.Sequential([sparse_kl_encoder, sparse_kl_decoder])"
   ]
  },
  {
   "cell_type": "markdown",
   "id": "207a3da5-d089-4e71-98a2-306c6b1aad90",
   "metadata": {},
   "source": [
    "^ the coding layer will have roughly 10% sparsity."
   ]
  },
  {
   "cell_type": "markdown",
   "id": "a5522ffb-7dcc-4b0f-9eb7-d924d526aca5",
   "metadata": {},
   "source": [
    "### Variational Autoencoders (VAE)\n",
    "\n",
    "performs variational Bayesian inference. Bayesian inference means updating a probability distribution based on new data\n",
    "\n",
    "probabilistic autoencoders, their outputs are partly determined by change even after training\n",
    "\n",
    "generative autoencoders, can generate new instances"
   ]
  },
  {
   "cell_type": "markdown",
   "id": "e22af424-4f14-4753-bc9c-b0932db390c6",
   "metadata": {},
   "source": [
    "The cost function of a variational autoencoder (VAE) consists of two parts: reconstruction loss, which ensures the autoencoder accurately reproduces its inputs (often using MSE), and latent loss, which encourages the codings to follow a Gaussian distribution using KL divergence. The addition of Gaussian noise limits the information transmitted, making the model more robust and capable of generating diverse outputs."
   ]
  },
  {
   "cell_type": "markdown",
   "id": "4688a486-90ba-46d2-b656-f18febc50063",
   "metadata": {},
   "source": [
    "samples a codings vector from the Gaussian distribution with mean μ and standard deviation σ:"
   ]
  },
  {
   "cell_type": "code",
   "execution_count": 52,
   "id": "fa498e84-2e75-40ab-b698-7c7e949a9ad9",
   "metadata": {},
   "outputs": [],
   "source": [
    "class Sampling(tf.keras.layers.Layer):\n",
    "    def call(self, inputs):\n",
    "        mean, log_var = inputs\n",
    "        return tf.random.normal(tf.shape(log_var)) * tf.exp(log_var / 2) + mean"
   ]
  },
  {
   "cell_type": "code",
   "execution_count": 54,
   "id": "b9ce0f9c-1223-491a-b402-dce38b62e624",
   "metadata": {},
   "outputs": [],
   "source": [
    "codings_size = 10\n",
    "inputs = tf.keras.layers.Input(shape=[28, 28])\n",
    "Z = tf.keras.layers.Flatten()(inputs)\n",
    "Z = tf.keras.layers.Dense(150, activation=\"relu\")(Z)\n",
    "Z = tf.keras.layers.Dense(100, activation=\"relu\")(Z)\n",
    "codings_mean = tf.keras.layers.Dense(codings_size)(Z)\n",
    "codings_log_var = tf.keras.layers.Dense(codings_size)(Z)\n",
    "codings = Sampling()([codings_mean, codings_log_var])\n",
    "variational_encoder = tf.keras.Model(\n",
    "        inputs=[inputs],\n",
    "        outputs=[codings_mean, codings_log_var, codings]\n",
    ")"
   ]
  },
  {
   "cell_type": "code",
   "execution_count": 78,
   "id": "212cb296-3ab5-465c-8418-e241e9897efe",
   "metadata": {},
   "outputs": [],
   "source": [
    "# decoder\n",
    "decoder_inputs = tf.keras.layers.Input(shape=[codings_size])\n",
    "x = tf.keras.layers.Dense(100, activation=\"relu\")(decoder_inputs)\n",
    "x = tf.keras.layers.Dense(150, activation=\"relu\")(x)\n",
    "x = tf.keras.layers.Dense(28 * 28)(x)\n",
    "outputs = tf.keras.layers.Reshape([28, 28])(x)\n",
    "variational_decoder = tf.keras.Model(inputs=[decoder_inputs], outputs=[outputs])"
   ]
  },
  {
   "cell_type": "code",
   "execution_count": 79,
   "id": "05bd5d3f-abdf-4d84-b74d-3a717d59c88d",
   "metadata": {},
   "outputs": [],
   "source": [
    "_, _, codings = variational_encoder(inputs)\n",
    "reconstructions = variational_decoder(codings)\n",
    "variational_ae = tf.keras.Model(inputs=[inputs], outputs=[reconstructions])"
   ]
  },
  {
   "cell_type": "markdown",
   "id": "312d5b6c-c05e-4431-9922-da51b91413e1",
   "metadata": {},
   "source": [
    "latent loss and the reconstruction loss:"
   ]
  },
  {
   "cell_type": "code",
   "execution_count": 93,
   "id": "c15340b3-1c72-41de-b9cd-3a4500081dc5",
   "metadata": {},
   "outputs": [
    {
     "name": "stdout",
     "output_type": "stream",
     "text": [
      "Epoch 1/25\n",
      "\u001b[1m375/375\u001b[0m \u001b[32m━━━━━━━━━━━━━━━━━━━━\u001b[0m\u001b[37m\u001b[0m \u001b[1m1s\u001b[0m 2ms/step - loss: 0.2289 - val_loss: 0.2287\n",
      "Epoch 2/25\n",
      "\u001b[1m375/375\u001b[0m \u001b[32m━━━━━━━━━━━━━━━━━━━━\u001b[0m\u001b[37m\u001b[0m \u001b[1m1s\u001b[0m 2ms/step - loss: 0.2282 - val_loss: 0.2288\n",
      "Epoch 3/25\n",
      "\u001b[1m375/375\u001b[0m \u001b[32m━━━━━━━━━━━━━━━━━━━━\u001b[0m\u001b[37m\u001b[0m \u001b[1m1s\u001b[0m 2ms/step - loss: 0.2285 - val_loss: 0.2288\n",
      "Epoch 4/25\n",
      "\u001b[1m375/375\u001b[0m \u001b[32m━━━━━━━━━━━━━━━━━━━━\u001b[0m\u001b[37m\u001b[0m \u001b[1m1s\u001b[0m 2ms/step - loss: 0.2269 - val_loss: 0.2287\n",
      "Epoch 5/25\n",
      "\u001b[1m375/375\u001b[0m \u001b[32m━━━━━━━━━━━━━━━━━━━━\u001b[0m\u001b[37m\u001b[0m \u001b[1m1s\u001b[0m 2ms/step - loss: 0.2284 - val_loss: 0.2287\n",
      "Epoch 6/25\n",
      "\u001b[1m375/375\u001b[0m \u001b[32m━━━━━━━━━━━━━━━━━━━━\u001b[0m\u001b[37m\u001b[0m \u001b[1m1s\u001b[0m 2ms/step - loss: 0.2290 - val_loss: 0.2288\n",
      "Epoch 7/25\n",
      "\u001b[1m375/375\u001b[0m \u001b[32m━━━━━━━━━━━━━━━━━━━━\u001b[0m\u001b[37m\u001b[0m \u001b[1m1s\u001b[0m 2ms/step - loss: 0.2275 - val_loss: 0.2287\n",
      "Epoch 8/25\n",
      "\u001b[1m375/375\u001b[0m \u001b[32m━━━━━━━━━━━━━━━━━━━━\u001b[0m\u001b[37m\u001b[0m \u001b[1m1s\u001b[0m 2ms/step - loss: 0.2283 - val_loss: 0.2287\n",
      "Epoch 9/25\n",
      "\u001b[1m375/375\u001b[0m \u001b[32m━━━━━━━━━━━━━━━━━━━━\u001b[0m\u001b[37m\u001b[0m \u001b[1m1s\u001b[0m 2ms/step - loss: 0.2277 - val_loss: 0.2289\n",
      "Epoch 10/25\n",
      "\u001b[1m375/375\u001b[0m \u001b[32m━━━━━━━━━━━━━━━━━━━━\u001b[0m\u001b[37m\u001b[0m \u001b[1m1s\u001b[0m 2ms/step - loss: 0.2280 - val_loss: 0.2289\n",
      "Epoch 11/25\n",
      "\u001b[1m375/375\u001b[0m \u001b[32m━━━━━━━━━━━━━━━━━━━━\u001b[0m\u001b[37m\u001b[0m \u001b[1m1s\u001b[0m 2ms/step - loss: 0.2284 - val_loss: 0.2287\n",
      "Epoch 12/25\n",
      "\u001b[1m375/375\u001b[0m \u001b[32m━━━━━━━━━━━━━━━━━━━━\u001b[0m\u001b[37m\u001b[0m \u001b[1m1s\u001b[0m 2ms/step - loss: 0.2279 - val_loss: 0.2286\n",
      "Epoch 13/25\n",
      "\u001b[1m375/375\u001b[0m \u001b[32m━━━━━━━━━━━━━━━━━━━━\u001b[0m\u001b[37m\u001b[0m \u001b[1m1s\u001b[0m 2ms/step - loss: 0.2290 - val_loss: 0.2287\n",
      "Epoch 14/25\n",
      "\u001b[1m375/375\u001b[0m \u001b[32m━━━━━━━━━━━━━━━━━━━━\u001b[0m\u001b[37m\u001b[0m \u001b[1m1s\u001b[0m 2ms/step - loss: 0.2290 - val_loss: 0.2287\n",
      "Epoch 15/25\n",
      "\u001b[1m375/375\u001b[0m \u001b[32m━━━━━━━━━━━━━━━━━━━━\u001b[0m\u001b[37m\u001b[0m \u001b[1m1s\u001b[0m 2ms/step - loss: 0.2280 - val_loss: 0.2285\n",
      "Epoch 16/25\n",
      "\u001b[1m375/375\u001b[0m \u001b[32m━━━━━━━━━━━━━━━━━━━━\u001b[0m\u001b[37m\u001b[0m \u001b[1m1s\u001b[0m 2ms/step - loss: 0.2283 - val_loss: 0.2288\n",
      "Epoch 17/25\n",
      "\u001b[1m375/375\u001b[0m \u001b[32m━━━━━━━━━━━━━━━━━━━━\u001b[0m\u001b[37m\u001b[0m \u001b[1m1s\u001b[0m 2ms/step - loss: 0.2273 - val_loss: 0.2288\n",
      "Epoch 18/25\n",
      "\u001b[1m375/375\u001b[0m \u001b[32m━━━━━━━━━━━━━━━━━━━━\u001b[0m\u001b[37m\u001b[0m \u001b[1m1s\u001b[0m 2ms/step - loss: 0.2283 - val_loss: 0.2288\n",
      "Epoch 19/25\n",
      "\u001b[1m375/375\u001b[0m \u001b[32m━━━━━━━━━━━━━━━━━━━━\u001b[0m\u001b[37m\u001b[0m \u001b[1m1s\u001b[0m 2ms/step - loss: 0.2278 - val_loss: 0.2287\n",
      "Epoch 20/25\n",
      "\u001b[1m375/375\u001b[0m \u001b[32m━━━━━━━━━━━━━━━━━━━━\u001b[0m\u001b[37m\u001b[0m \u001b[1m1s\u001b[0m 2ms/step - loss: 0.2289 - val_loss: 0.2286\n",
      "Epoch 21/25\n",
      "\u001b[1m375/375\u001b[0m \u001b[32m━━━━━━━━━━━━━━━━━━━━\u001b[0m\u001b[37m\u001b[0m \u001b[1m1s\u001b[0m 2ms/step - loss: 0.2274 - val_loss: 0.2289\n",
      "Epoch 22/25\n",
      "\u001b[1m375/375\u001b[0m \u001b[32m━━━━━━━━━━━━━━━━━━━━\u001b[0m\u001b[37m\u001b[0m \u001b[1m1s\u001b[0m 2ms/step - loss: 0.2278 - val_loss: 0.2286\n",
      "Epoch 23/25\n",
      "\u001b[1m375/375\u001b[0m \u001b[32m━━━━━━━━━━━━━━━━━━━━\u001b[0m\u001b[37m\u001b[0m \u001b[1m1s\u001b[0m 2ms/step - loss: 0.2278 - val_loss: 0.2285\n",
      "Epoch 24/25\n",
      "\u001b[1m375/375\u001b[0m \u001b[32m━━━━━━━━━━━━━━━━━━━━\u001b[0m\u001b[37m\u001b[0m \u001b[1m1s\u001b[0m 2ms/step - loss: 0.2278 - val_loss: 0.2288\n",
      "Epoch 25/25\n",
      "\u001b[1m375/375\u001b[0m \u001b[32m━━━━━━━━━━━━━━━━━━━━\u001b[0m\u001b[37m\u001b[0m \u001b[1m1s\u001b[0m 2ms/step - loss: 0.2279 - val_loss: 0.2288\n"
     ]
    },
    {
     "data": {
      "text/html": [
       "<pre style=\"white-space:pre;overflow-x:auto;line-height:normal;font-family:Menlo,'DejaVu Sans Mono',consolas,'Courier New',monospace\"><span style=\"font-weight: bold\">Model: \"variational_autoencoder_5\"</span>\n",
       "</pre>\n"
      ],
      "text/plain": [
       "\u001b[1mModel: \"variational_autoencoder_5\"\u001b[0m\n"
      ]
     },
     "metadata": {},
     "output_type": "display_data"
    },
    {
     "data": {
      "text/html": [
       "<pre style=\"white-space:pre;overflow-x:auto;line-height:normal;font-family:Menlo,'DejaVu Sans Mono',consolas,'Courier New',monospace\">┏━━━━━━━━━━━━━━━━━━━━━━━━━━━━━━━━━┳━━━━━━━━━━━━━━━━━━━━━━━━┳━━━━━━━━━━━━━━━┓\n",
       "┃<span style=\"font-weight: bold\"> Layer (type)                    </span>┃<span style=\"font-weight: bold\"> Output Shape           </span>┃<span style=\"font-weight: bold\">       Param # </span>┃\n",
       "┡━━━━━━━━━━━━━━━━━━━━━━━━━━━━━━━━━╇━━━━━━━━━━━━━━━━━━━━━━━━╇━━━━━━━━━━━━━━━┩\n",
       "└─────────────────────────────────┴────────────────────────┴───────────────┘\n",
       "</pre>\n"
      ],
      "text/plain": [
       "┏━━━━━━━━━━━━━━━━━━━━━━━━━━━━━━━━━┳━━━━━━━━━━━━━━━━━━━━━━━━┳━━━━━━━━━━━━━━━┓\n",
       "┃\u001b[1m \u001b[0m\u001b[1mLayer (type)                   \u001b[0m\u001b[1m \u001b[0m┃\u001b[1m \u001b[0m\u001b[1mOutput Shape          \u001b[0m\u001b[1m \u001b[0m┃\u001b[1m \u001b[0m\u001b[1m      Param #\u001b[0m\u001b[1m \u001b[0m┃\n",
       "┡━━━━━━━━━━━━━━━━━━━━━━━━━━━━━━━━━╇━━━━━━━━━━━━━━━━━━━━━━━━╇━━━━━━━━━━━━━━━┩\n",
       "└─────────────────────────────────┴────────────────────────┴───────────────┘\n"
      ]
     },
     "metadata": {},
     "output_type": "display_data"
    },
    {
     "data": {
      "text/html": [
       "<pre style=\"white-space:pre;overflow-x:auto;line-height:normal;font-family:Menlo,'DejaVu Sans Mono',consolas,'Courier New',monospace\"><span style=\"font-weight: bold\"> Total params: </span><span style=\"color: #00af00; text-decoration-color: #00af00\">0</span> (0.00 B)\n",
       "</pre>\n"
      ],
      "text/plain": [
       "\u001b[1m Total params: \u001b[0m\u001b[38;5;34m0\u001b[0m (0.00 B)\n"
      ]
     },
     "metadata": {},
     "output_type": "display_data"
    },
    {
     "data": {
      "text/html": [
       "<pre style=\"white-space:pre;overflow-x:auto;line-height:normal;font-family:Menlo,'DejaVu Sans Mono',consolas,'Courier New',monospace\"><span style=\"font-weight: bold\"> Trainable params: </span><span style=\"color: #00af00; text-decoration-color: #00af00\">0</span> (0.00 B)\n",
       "</pre>\n"
      ],
      "text/plain": [
       "\u001b[1m Trainable params: \u001b[0m\u001b[38;5;34m0\u001b[0m (0.00 B)\n"
      ]
     },
     "metadata": {},
     "output_type": "display_data"
    },
    {
     "data": {
      "text/html": [
       "<pre style=\"white-space:pre;overflow-x:auto;line-height:normal;font-family:Menlo,'DejaVu Sans Mono',consolas,'Courier New',monospace\"><span style=\"font-weight: bold\"> Non-trainable params: </span><span style=\"color: #00af00; text-decoration-color: #00af00\">0</span> (0.00 B)\n",
       "</pre>\n"
      ],
      "text/plain": [
       "\u001b[1m Non-trainable params: \u001b[0m\u001b[38;5;34m0\u001b[0m (0.00 B)\n"
      ]
     },
     "metadata": {},
     "output_type": "display_data"
    }
   ],
   "source": [
    "# Define the KL Divergence Loss\n",
    "# latent_loss = -0.5 * tf.reduce_sum(\n",
    "#     1 + codings_log_var - tf.exp(codings_log_var) - tf.square(codings_mean), axis=-1\n",
    "# )\n",
    "# variational_ae.add_loss(tf.reduce_mean(latent_loss) / 784.)\n",
    "\n",
    "# variational_ae.compile(loss=\"mse\", optimizer=\"nadam\")\n",
    "# history = variational_ae.fit(X_train, X_train, epochs=25, batch_size=128,\n",
    "# validation_data=(X_valid, X_valid))\n",
    "\n",
    "X_train = X_train.reshape(-1, 28, 28, 1)\n",
    "X_valid = X_valid.reshape(-1, 28, 28, 1)\n",
    "def kl_loss(codings_mean, codings_log_var):\n",
    "    kl_loss = -0.5 * tf.reduce_sum(\n",
    "        1 + codings_log_var - tf.exp(codings_log_var) - tf.square(codings_mean), axis=-1\n",
    "    )\n",
    "    return tf.reduce_mean(kl_loss) / 784.0\n",
    "\n",
    "# Add the loss directly within the model's call method\n",
    "class VariationalAutoencoder(keras.Model):\n",
    "    def call(self, inputs):\n",
    "        codings_mean, codings_log_var, codings = variational_encoder(inputs)\n",
    "        reconstructions = variational_decoder(codings)\n",
    "        \n",
    "        # Compute KL loss\n",
    "        kl_loss_value = kl_loss(codings_mean, codings_log_var)\n",
    "        \n",
    "        # Add loss to the model\n",
    "        self.add_loss(kl_loss_value)\n",
    "        \n",
    "        return reconstructions\n",
    "\n",
    "# Instantiate and compile the model\n",
    "variational_ae = VariationalAutoencoder()\n",
    "variational_ae.compile(optimizer=\"nadam\", loss=\"mse\")\n",
    "history = variational_ae.fit(X_train, X_train, epochs=25, batch_size=128, validation_data=(X_valid, X_valid))\n",
    "\n",
    "# Summary of the model\n",
    "variational_ae.summary()"
   ]
  },
  {
   "cell_type": "markdown",
   "id": "d4b6f2f0-8110-4234-bf60-e686fa6b7471",
   "metadata": {},
   "source": [
    "generate images that look like fashion items, sample from a Gaussian distribution and decode them:"
   ]
  },
  {
   "cell_type": "code",
   "execution_count": 91,
   "id": "165074ef-cba6-474c-a03f-2528d898c917",
   "metadata": {},
   "outputs": [],
   "source": [
    "codings = tf.random.normal(shape=[3 * 7, codings_size])\n",
    "images = variational_decoder(codings).numpy()"
   ]
  },
  {
   "cell_type": "code",
   "execution_count": 94,
   "id": "41701a5f-9757-4867-bac7-79ff41a65319",
   "metadata": {},
   "outputs": [
    {
     "name": "stderr",
     "output_type": "stream",
     "text": [
      "/Users/mathias/.pyenv/versions/3.12.0/lib/python3.12/site-packages/keras/src/models/functional.py:237: UserWarning: The structure of `inputs` doesn't match the expected structure.\n",
      "Expected: ['keras_tensor_247']\n",
      "Received: inputs=Tensor(shape=(7, 10))\n",
      "  warnings.warn(msg)\n"
     ]
    }
   ],
   "source": [
    "codings = np.zeros([7, codings_size])\n",
    "codings[:, 3] = np.linspace(-0.8, 0.8, 7)\n",
    "images = variational_decoder(codings).numpy()"
   ]
  },
  {
   "cell_type": "markdown",
   "id": "f67d1303-ff2e-4b7b-a46b-a9fa0aa3724e",
   "metadata": {},
   "source": [
    "### GANs (Generative Adversal Networks)\n",
    "\n",
    "Generator: takes a random distribution and outputs some data typically, an image.\n",
    "(same functionality as a decoder in a variational autoencoder) tries to trick the Discriminator\n",
    "\n",
    "Discriminator: takes a fake image from generator or a real image from training set as input, and must guess whether the input image is fake or real."
   ]
  },
  {
   "cell_type": "markdown",
   "id": "c19edf4b-5687-4184-87c5-2a9ec25c6515",
   "metadata": {},
   "source": [
    "The generator never actually sees any real images, yet it gradually learns to produce convincing fake images"
   ]
  },
  {
   "cell_type": "code",
   "execution_count": 101,
   "id": "5d59f4fb-eb8b-4191-b353-043fdde20929",
   "metadata": {},
   "outputs": [],
   "source": [
    "codings_size = 30\n",
    "\n",
    "Dense = tf.keras.layers.Dense\n",
    "generator = tf.keras.Sequential([\n",
    "    Dense(100, activation=\"relu\", kernel_initializer=\"he_normal\"),\n",
    "    Dense(150, activation=\"relu\", kernel_initializer=\"he_normal\"),\n",
    "    Dense(28 * 28, activation=\"sigmoid\"),\n",
    "    tf.keras.layers.Reshape([28, 28])\n",
    "])\n",
    "\n",
    "discriminator = tf.keras.Sequential([\n",
    "    tf.keras.layers.Flatten(),\n",
    "    Dense(150, activation=\"relu\", kernel_initializer=\"he_normal\"),\n",
    "    Dense(100, activation=\"relu\", kernel_initializer=\"he_normal\"),\n",
    "    Dense(1, activation=\"sigmoid\")\n",
    "])\n",
    "\n",
    "gan = tf.keras.Sequential([generator, discriminator])"
   ]
  },
  {
   "cell_type": "code",
   "execution_count": 102,
   "id": "afef5622-9e35-4203-82e2-62a39c12071b",
   "metadata": {},
   "outputs": [],
   "source": [
    "discriminator.compile(loss=\"binary_crossentropy\", optimizer=\"rmsprop\")\n",
    "discriminator.trainable = False\n",
    "gan.compile(loss=\"binary_crossentropy\", optimizer=\"rmsprop\")"
   ]
  },
  {
   "cell_type": "code",
   "execution_count": 103,
   "id": "357c8aac-28e4-4663-9080-d89458576e98",
   "metadata": {},
   "outputs": [],
   "source": [
    "# cannot use regular fit(), we must use a custom training loop\n",
    "batch_size = 32\n",
    "dataset = tf.data.Dataset.from_tensor_slices(X_train).shuffle(buffer_size=1000)\n",
    "dataset = dataset.batch(batch_size, drop_remainder=True).prefetch(1)"
   ]
  },
  {
   "cell_type": "code",
   "execution_count": 118,
   "id": "889e1b39-6f71-4e6d-a459-b56936c8d0e1",
   "metadata": {},
   "outputs": [
    {
     "name": "stderr",
     "output_type": "stream",
     "text": [
      "2025-02-14 23:00:36.072212: I tensorflow/core/framework/local_rendezvous.cc:405] Local rendezvous is aborting with status: OUT_OF_RANGE: End of sequence\n"
     ]
    }
   ],
   "source": [
    "def train_gan(gan, dataset, batch_size, coding_size, n_epochs):\n",
    "    generator, discriminator = gan.layers\n",
    "    for epoch in range(n_epochs):\n",
    "        for X_batch in dataset:\n",
    "            # Ensure the batch size is consistent, and skip small batches (if the dataset is not divisible perfectly)\n",
    "            if X_batch.shape[0] != batch_size:\n",
    "                continue  # Skip this iteration if batch size is inconsistent\n",
    "\n",
    "            # Flatten real images (28, 28, 1) to (batch_size, 784)\n",
    "            X_batch_flattened = tf.reshape(X_batch, (batch_size, -1))\n",
    "\n",
    "            # Phase 1 - training discriminator\n",
    "            noise = tf.random.normal(shape=[batch_size, coding_size])\n",
    "            generated_images = generator(noise)  # Generate fake images\n",
    "            generated_images_flattened = tf.reshape(generated_images, (batch_size, -1))\n",
    "\n",
    "            # Concatenate real and fake images\n",
    "            X_fake_and_real = tf.concat([generated_images_flattened, X_batch_flattened], axis=0)  # Shape: (batch_size*2, 784)\n",
    "\n",
    "            # Labels for real and fake images (shape should match X_fake_and_real)\n",
    "            y1 = tf.constant([[0.]] * batch_size + [[1.]] * batch_size)  # Shape: (batch_size*2, 1)\n",
    "\n",
    "            # Ensure consistency in batch sizes\n",
    "            print(f\"X_fake_and_real shape: {X_fake_and_real.shape}, y1 shape: {y1.shape}\")\n",
    "            assert X_fake_and_real.shape[0] == y1.shape[0], f\"Mismatch in batch sizes: {X_fake_and_real.shape[0]} vs {y1.shape[0]}\"\n",
    "\n",
    "            # Train the discriminator\n",
    "            discriminator.train_on_batch(X_fake_and_real, y1)\n",
    "\n",
    "            # Phase 2 - training generator\n",
    "            noise = tf.random.normal(shape=[batch_size, coding_size])  # Latent space noise\n",
    "            y2 = tf.constant([[1.]] * batch_size)  # Labels for generator training (fake -> real)\n",
    "\n",
    "            # Train the GAN (generator)\n",
    "            gan.train_on_batch(noise, y2)\n",
    "\n",
    "train_gan(gan, dataset, batch_size=128, coding_size=30, n_epochs=50)"
   ]
  },
  {
   "cell_type": "markdown",
   "id": "ab88e685-5f88-400f-bb5a-92c38d261fda",
   "metadata": {},
   "source": [
    "In phase one we feed Gaussian noise to the generator to produce fake images, and we complete this batch by concatenating an equal number of real images.\n",
    "\n",
    "In phase two, we feed the GAN some Gaussian noise. Its generator will start by\n",
    "producing fake images, then the discriminator will try to guess whether these\n",
    "images are fake or real."
   ]
  },
  {
   "cell_type": "code",
   "execution_count": 119,
   "id": "a8c0f703-ec6c-43e1-9a5b-bffcb0fefad2",
   "metadata": {},
   "outputs": [
    {
     "name": "stdout",
     "output_type": "stream",
     "text": [
      "\u001b[1m1/1\u001b[0m \u001b[32m━━━━━━━━━━━━━━━━━━━━\u001b[0m\u001b[37m\u001b[0m \u001b[1m0s\u001b[0m 38ms/step\n"
     ]
    }
   ],
   "source": [
    "codings = tf.random.normal(shape=[batch_size, codings_size])\n",
    "generated_images = generator.predict(codings)"
   ]
  },
  {
   "cell_type": "markdown",
   "id": "569a6f72-e5d7-424e-80a6-71165fd982f9",
   "metadata": {},
   "source": [
    "### Deep Convolutional GANs (DCGAN)"
   ]
  },
  {
   "cell_type": "code",
   "execution_count": 120,
   "id": "1a2e39ed-2a8c-48a2-b3be-f096bf6e0b8d",
   "metadata": {},
   "outputs": [],
   "source": [
    "codings_size = 100\n",
    "\n",
    "generator = tf.keras.Sequential([\n",
    "    tf.keras.layers.Dense(7 * 7 * 128),\n",
    "    tf.keras.layers.Reshape([7, 7, 128]),\n",
    "    tf.keras.layers.BatchNormalization(),\n",
    "    tf.keras.layers.Conv2DTranspose(64, kernel_size=5, strides=2, padding=\"same\", activation=\"relu\"),\n",
    "    tf.keras.layers.BatchNormalization(),\n",
    "    tf.keras.layers.Conv2DTranspose(1, kernel_size=5, strides=2, padding=\"same\", activation=\"tanh\"),\n",
    "])\n",
    "discriminator = tf.keras.Sequential([\n",
    "    tf.keras.layers.Conv2D(64, kernel_size=5, strides=2, padding=\"same\", activation=tf.keras.layers.LeakyReLU(0.2)),\n",
    "    tf.keras.layers.Dropout(0.4),\n",
    "    tf.keras.layers.Conv2D(128, kernel_size=5, strides=2, padding=\"same\", activation=tf.keras.layers.LeakyReLU(0.2)),\n",
    "    tf.keras.layers.Dropout(0.4),\n",
    "    tf.keras.layers.Flatten(),\n",
    "    tf.keras.layers.Dense(1, activation=\"sigmoid\")\n",
    "])\n",
    "\n",
    "gan = tf.keras.Sequential([generator, discriminator])"
   ]
  },
  {
   "cell_type": "code",
   "execution_count": 121,
   "id": "e8ca3b36-51f1-464b-9277-b14090f225fb",
   "metadata": {},
   "outputs": [],
   "source": [
    "X_train_dcgan = X_train.reshape(-1, 28, 28, 1) * 2. - 1."
   ]
  },
  {
   "cell_type": "markdown",
   "id": "0a458a41-2f48-4b23-be52-f5b448d71512",
   "metadata": {},
   "source": [
    "### These techniques can be used to produce high definition images of faces (convincing)\n",
    "\n",
    "Mini-batch standard deviation layer\n",
    "\n",
    "Equalized learning rate\n",
    "\n",
    "Pixelwise normalization layer"
   ]
  },
  {
   "cell_type": "markdown",
   "id": "9269d78a-1b0b-488d-a485-b48da1293afe",
   "metadata": {},
   "source": [
    "### StyleGANs\n",
    "\n",
    "adding noise independently from the codings is very important, if noise came from the codings,\n",
    "it meant that the generator had to dedicate a significant portion of the codings' repre‐\n",
    "sentational power to storing noise, which this is quite wasteful.\n",
    "\n",
    "Noise is broadcasted to all feature maps\n",
    "\n",
    "generator is composed of two networks:\n",
    "\n",
    "Mapping Network\n",
    "\n",
    "Synthesis Network"
   ]
  },
  {
   "cell_type": "markdown",
   "id": "8cb287df-f8cd-48c8-9732-c2e021999ebc",
   "metadata": {},
   "source": [
    "### Diffusion Models\n",
    "\n",
    "denoising diffusion probabilistic model (DDPMs) beat GANs: not only are DDPMs much easier to train than GANs, but the generated images are more diverse and of even higher quality. The main downside of DDPMs they take a very long time to generate images, compared to GANs or VAEs"
   ]
  },
  {
   "cell_type": "markdown",
   "id": "8f064d0f-c681-4464-a01c-e4b3e8c7a866",
   "metadata": {},
   "source": [
    "the sum of multiple Gaussian distributions is also a Gaussian distribution"
   ]
  },
  {
   "cell_type": "markdown",
   "id": "ddd542e1-f1e8-4698-bf86-9391d287b4f0",
   "metadata": {},
   "source": [
    "In the forward diffusion process we add more and more Gaussian noise with mean 0 and variance β\n",
    "This noise is independent for each pixel: isotropic. You first obtain the image x1, then x2,\n",
    "and so on, until the cat is completely hidden by the noise, impossible to see.\n",
    "\n",
    "Wwe're gradually drowning the image in noise: this is called the forward process."
   ]
  },
  {
   "cell_type": "markdown",
   "id": "95462156-4fd4-4ecd-912c-d8a89d14afad",
   "metadata": {},
   "source": [
    "### Probability distribution q of the forward diffusion process\n",
    "$$\n",
    "q(\\mathbf{x}_t \\mid \\mathbf{x}_0) = \\mathcal{N}(\\sqrt{\\bar{\\alpha}_t} \\mathbf{x}_0, (1 - \\bar{\\alpha}_t) \\mathbf{I})\n",
    "$$"
   ]
  },
  {
   "cell_type": "markdown",
   "id": "54ad96f1-f771-4f07-93e9-d0f3532c8e95",
   "metadata": {},
   "source": [
    "### Variance Schedule Definitions:\n",
    "$$\n",
    "\\alpha_t = 1 - \\beta_t\n",
    "$$\n",
    "\n",
    "$$\n",
    "\\bar{\\alpha}_t = \\prod_{s=1}^{t} \\alpha_s\n",
    "$$"
   ]
  },
  {
   "cell_type": "markdown",
   "id": "3225d6e2-4e55-43a3-86ec-8b49383163a9",
   "metadata": {},
   "source": [
    "### Cosine-Based Variance Schedule\n",
    "\n",
    "The function controlling the noise schedule is:\n",
    "\n",
    "$$\n",
    "f(t) = \\cos\\left(\\frac{\\pi}{2} \\cdot \\frac{t/T + s}{1 + s} \\right)\n",
    "$$\n",
    "\n",
    "The cumulative noise schedule is:\n",
    "\n",
    "$$\n",
    "\\bar{\\alpha}_t = f(t)^2\n",
    "$$\n",
    "\n",
    "And the per-step variance is:\n",
    "\n",
    "$$\n",
    "\\beta_t = 1 - \\frac{\\bar{\\alpha}_t}{\\bar{\\alpha}_{t-1}}\n",
    "$$"
   ]
  },
  {
   "cell_type": "code",
   "execution_count": 123,
   "id": "35f7808c-2d01-47c2-8ea8-8df53f31c8a9",
   "metadata": {},
   "outputs": [],
   "source": [
    "def variance_schedule(T, s=0.008, max_beta=0.999):\n",
    "    t = np.arange(T + 1)\n",
    "    f = np.cos((t / T + s) / (1 + s) * np.pi / 2) ** 2\n",
    "    alpha = np.clip(f[1:] / f[:-1], 1 - max_beta, 1)\n",
    "    alpha = np.append(1, alpha).astype(np.float32)\n",
    "    beta = 1 - alpha\n",
    "    alpha_cumprod = np.cumprod(alpha)\n",
    "    return alpha, alpha_cumprod, beta\n",
    "\n",
    "T = 4000\n",
    "alpha, alpha_cumprod, beta = variance_schedule(T)"
   ]
  },
  {
   "cell_type": "markdown",
   "id": "a4d3c9f8-1d85-4af5-a27f-ed824429fffb",
   "metadata": {},
   "source": [
    "to train our model to reverse the diffusion process, we will need noisy images from different time steps of the forward process. "
   ]
  },
  {
   "cell_type": "code",
   "execution_count": 131,
   "id": "8c5a5a36-5f77-4ac7-8e40-29df4613a17a",
   "metadata": {},
   "outputs": [],
   "source": [
    "# def prepare_batch(X):\n",
    "#     X = tf.cast(X[..., tf.newaxis], tf.float32) * 2 - 1 # scale from -1 to +1\n",
    "#     X_shape = tf.shape(X)\n",
    "#     t = tf.random.uniform([X_shape[0]], minval=1, maxval=T + 1, dtype=tf.int32)\n",
    "#     alpha_cm = tf.gather(alpha_cumprod, t)\n",
    "#     alpha_cm = tf.reshape(alpha_cm, [X_shape[0]] + [1] * (len(X_shape) - 1))\n",
    "#     noise = tf.random.normal(X_shape)\n",
    "#     return {\n",
    "#         \"X_noisy\": alpha_cm ** 0.5 * X + (1 - alpha_cm) ** 0.5 * noise, # x ** 0.5 = sqrt(x)\n",
    "#         \"time\": t\n",
    "#     }, noise\n",
    "\n",
    "def prepare_batch(X):\n",
    "    X = tf.cast(X, tf.float32) / 127.5 - 1  # Normalize to [-1, 1]\n",
    "    \n",
    "    # Ensure shape is (batch_size, 28, 28, 1)\n",
    "    X = tf.reshape(X, [-1, 28, 28, 1])  \n",
    "    \n",
    "    X_shape = tf.shape(X)\n",
    "    t = tf.random.uniform([X_shape[0]], minval=1, maxval=T + 1, dtype=tf.int32)\n",
    "    \n",
    "    alpha_cm = tf.gather(alpha_cumprod, t)\n",
    "    alpha_cm = tf.reshape(alpha_cm, [X_shape[0]] + [1] * (len(X_shape) - 1))\n",
    "    \n",
    "    noise = tf.random.normal(X_shape)\n",
    "    X_noisy = alpha_cm ** 0.5 * X + (1 - alpha_cm) ** 0.5 * noise  # Apply noise\n",
    "\n",
    "    return {\"X_noisy\": X_noisy, \"time\": t}, noise"
   ]
  },
  {
   "cell_type": "code",
   "execution_count": 132,
   "id": "cd5357bd-e96d-4762-b511-786de7c869ae",
   "metadata": {},
   "outputs": [],
   "source": [
    "def prepare_dataset(X, batch_size=32, shuffle=False):\n",
    "    ds = tf.data.Dataset.from_tensor_slices(X)\n",
    "    if shuffle:\n",
    "        ds = ds.shuffle(buffer_size=10_000)\n",
    "    return ds.batch(batch_size).map(prepare_batch).prefetch(1)\n",
    "\n",
    "train_set = prepare_dataset(X_train, batch_size=32, shuffle=True)\n",
    "valid_set = prepare_dataset(X_valid, batch_size=32)"
   ]
  },
  {
   "cell_type": "code",
   "execution_count": 133,
   "id": "50438386-64a2-4ba5-b871-c0b60856676c",
   "metadata": {},
   "outputs": [],
   "source": [
    "# def build_diffusion_model():\n",
    "#     X_noisy = tf.keras.layers.Input(shape=[28, 28, 1], name=\"X_noisy\")\n",
    "#     time_input = tf.keras.layers.Input(shape=[], dtype=tf.int32, name=\"time\")\n",
    "#     [...] # build model based on noisy images and time steps\n",
    "#     ouputs = [...] # predict the noise (same shape as the input images)\n",
    "#     return tf.keras.Model(inputs=[X_noisy, time_input], outputs=[outputs])\n",
    "from tensorflow import keras\n",
    "from tensorflow.keras import layers\n",
    "\n",
    "def sinusoidal_embedding(timesteps, dim):\n",
    "    \"\"\"Creates sinusoidal time embeddings.\"\"\"\n",
    "    half_dim = dim // 2\n",
    "    freqs = tf.exp(tf.linspace(tf.math.log(1.0), tf.math.log(1000.0), half_dim))\n",
    "    angles = tf.cast(timesteps, tf.float32)[:, None] * freqs[None, :]\n",
    "    return tf.concat([tf.sin(angles), tf.cos(angles)], axis=-1)\n",
    "\n",
    "def build_diffusion_model():\n",
    "    X_noisy = layers.Input(shape=[28, 28, 1], name=\"X_noisy\")\n",
    "    time_input = layers.Input(shape=[], dtype=tf.int32, name=\"time\")\n",
    "\n",
    "    # Time embedding\n",
    "    time_emb_dim = 32\n",
    "    time_embedding = layers.Lambda(lambda t: sinusoidal_embedding(t, time_emb_dim))(time_input)\n",
    "    time_embedding = layers.Dense(128, activation=\"swish\")(time_embedding)\n",
    "    time_embedding = layers.Dense(128, activation=\"swish\")(time_embedding)\n",
    "\n",
    "    # Initial conv layer\n",
    "    x = layers.Conv2D(64, kernel_size=3, padding=\"same\", activation=\"swish\")(X_noisy)\n",
    "\n",
    "    # Downsampling\n",
    "    x = layers.Conv2D(128, kernel_size=3, strides=2, padding=\"same\", activation=\"swish\")(x)\n",
    "    x = layers.Conv2D(128, kernel_size=3, padding=\"same\", activation=\"swish\")(x)\n",
    "\n",
    "    # Inject time embedding\n",
    "    time_emb = layers.Dense(128, activation=\"swish\")(time_embedding)\n",
    "    time_emb = layers.Reshape((1, 1, 128))(time_emb)\n",
    "    x = layers.Add()([x, time_emb])\n",
    "\n",
    "    # Bottleneck\n",
    "    x = layers.Conv2D(256, kernel_size=3, padding=\"same\", activation=\"swish\")(x)\n",
    "    x = layers.Conv2D(256, kernel_size=3, padding=\"same\", activation=\"swish\")(x)\n",
    "\n",
    "    # Upsampling\n",
    "    x = layers.Conv2DTranspose(128, kernel_size=3, strides=2, padding=\"same\", activation=\"swish\")(x)\n",
    "    x = layers.Conv2D(128, kernel_size=3, padding=\"same\", activation=\"swish\")(x)\n",
    "\n",
    "    # Final output layer (predict noise)\n",
    "    outputs = layers.Conv2D(1, kernel_size=3, padding=\"same\", activation=None)(x)\n",
    "\n",
    "    return keras.Model(inputs=[X_noisy, time_input], outputs=[outputs])"
   ]
  },
  {
   "cell_type": "code",
   "execution_count": 135,
   "id": "fbb08289-f934-4864-9ebc-41c5b1b7a692",
   "metadata": {},
   "outputs": [
    {
     "name": "stdout",
     "output_type": "stream",
     "text": [
      "Epoch 1/10\n",
      "\u001b[1m1500/1500\u001b[0m \u001b[32m━━━━━━━━━━━━━━━━━━━━\u001b[0m\u001b[37m\u001b[0m \u001b[1m370s\u001b[0m 246ms/step - loss: 0.0584 - val_loss: 0.0071\n",
      "Epoch 2/10\n",
      "\u001b[1m1500/1500\u001b[0m \u001b[32m━━━━━━━━━━━━━━━━━━━━\u001b[0m\u001b[37m\u001b[0m \u001b[1m368s\u001b[0m 245ms/step - loss: 0.0170 - val_loss: 0.4248\n",
      "Epoch 3/10\n",
      "\u001b[1m1500/1500\u001b[0m \u001b[32m━━━━━━━━━━━━━━━━━━━━\u001b[0m\u001b[37m\u001b[0m \u001b[1m375s\u001b[0m 250ms/step - loss: 0.4245 - val_loss: 0.4245\n",
      "Epoch 4/10\n",
      "\u001b[1m1500/1500\u001b[0m \u001b[32m━━━━━━━━━━━━━━━━━━━━\u001b[0m\u001b[37m\u001b[0m \u001b[1m379s\u001b[0m 252ms/step - loss: 0.4248 - val_loss: 0.4246\n",
      "Epoch 5/10\n",
      "\u001b[1m1500/1500\u001b[0m \u001b[32m━━━━━━━━━━━━━━━━━━━━\u001b[0m\u001b[37m\u001b[0m \u001b[1m379s\u001b[0m 252ms/step - loss: 0.4248 - val_loss: 0.4248\n",
      "Epoch 6/10\n",
      "\u001b[1m1500/1500\u001b[0m \u001b[32m━━━━━━━━━━━━━━━━━━━━\u001b[0m\u001b[37m\u001b[0m \u001b[1m377s\u001b[0m 252ms/step - loss: 0.4246 - val_loss: 0.4247\n",
      "Epoch 7/10\n",
      "\u001b[1m1500/1500\u001b[0m \u001b[32m━━━━━━━━━━━━━━━━━━━━\u001b[0m\u001b[37m\u001b[0m \u001b[1m377s\u001b[0m 251ms/step - loss: 0.4246 - val_loss: 0.4249\n",
      "Epoch 8/10\n",
      "\u001b[1m1500/1500\u001b[0m \u001b[32m━━━━━━━━━━━━━━━━━━━━\u001b[0m\u001b[37m\u001b[0m \u001b[1m378s\u001b[0m 252ms/step - loss: 0.4246 - val_loss: 0.4246\n",
      "Epoch 9/10\n",
      "\u001b[1m1500/1500\u001b[0m \u001b[32m━━━━━━━━━━━━━━━━━━━━\u001b[0m\u001b[37m\u001b[0m \u001b[1m366s\u001b[0m 244ms/step - loss: 0.4246 - val_loss: 0.4246\n",
      "Epoch 10/10\n",
      "\u001b[1m1500/1500\u001b[0m \u001b[32m━━━━━━━━━━━━━━━━━━━━\u001b[0m\u001b[37m\u001b[0m \u001b[1m377s\u001b[0m 251ms/step - loss: 0.4248 - val_loss: 0.4245\n"
     ]
    }
   ],
   "source": [
    "model = build_diffusion_model()\n",
    "model.compile(loss=tf.keras.losses.Huber(), optimizer=\"nadam\")\n",
    "history = model.fit(train_set, validation_data=valid_set, epochs=10) # epochs=100 scaled down to 10"
   ]
  },
  {
   "cell_type": "markdown",
   "id": "63e781fa-07db-4b95-b89d-4b8b8994676b",
   "metadata": {},
   "source": [
    "reverse the process"
   ]
  },
  {
   "cell_type": "code",
   "execution_count": 136,
   "id": "f6dbf356-6c98-4059-9da2-9c302707b3af",
   "metadata": {},
   "outputs": [],
   "source": [
    "def generate(model, batch_size=32):\n",
    "    X = tf.random.normal([batch_size, 28, 28, 1])\n",
    "    for t in range(T, 0, -1):\n",
    "        noise = (tf.random.normal if t > 1 else tf.zeros)(tf.shape(X))\n",
    "        X_noise = model({\"X_noisy\": X, \"time\": tf.constant([t] * batch_size)})\n",
    "        X = (\n",
    "            1 / alpha[t] ** 0.5\n",
    "            * (X - beta[t] / (1 - alpha_cumprod[t]) ** 0.5 * X_noise)\n",
    "            + (1 - alpha[t]) ** 0.5 * noise\n",
    "        )\n",
    "    return X\n",
    "\n",
    "X_gen = generate(model)"
   ]
  },
  {
   "cell_type": "code",
   "execution_count": null,
   "id": "9a43b201-fcbb-4460-83b9-5a23a071a6cf",
   "metadata": {},
   "outputs": [],
   "source": []
  }
 ],
 "metadata": {
  "kernelspec": {
   "display_name": "Python 3.12 (pyenv)",
   "language": "python",
   "name": "python312"
  },
  "language_info": {
   "codemirror_mode": {
    "name": "ipython",
    "version": 3
   },
   "file_extension": ".py",
   "mimetype": "text/x-python",
   "name": "python",
   "nbconvert_exporter": "python",
   "pygments_lexer": "ipython3",
   "version": "3.12.0"
  }
 },
 "nbformat": 4,
 "nbformat_minor": 5
}
